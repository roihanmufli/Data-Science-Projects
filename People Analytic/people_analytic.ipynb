{
  "nbformat": 4,
  "nbformat_minor": 0,
  "metadata": {
    "colab": {
      "name": "people_analytic.ipynb",
      "provenance": [],
      "collapsed_sections": []
    },
    "kernelspec": {
      "display_name": "Python 3",
      "name": "python3"
    }
  },
  "cells": [
    {
      "cell_type": "code",
      "metadata": {
        "id": "grDJjf7fxDrk",
        "colab": {
          "base_uri": "https://localhost:8080/"
        },
        "outputId": "a091cdc6-f4d6-4bf3-94ce-23a78405a7cf"
      },
      "source": [
        "from google.colab import drive\n",
        "drive.mount('/content/drive/')"
      ],
      "execution_count": 1,
      "outputs": [
        {
          "output_type": "stream",
          "text": [
            "Mounted at /content/drive/\n"
          ],
          "name": "stdout"
        }
      ]
    },
    {
      "cell_type": "code",
      "metadata": {
        "id": "TjNJKHhsxl22",
        "colab": {
          "base_uri": "https://localhost:8080/"
        },
        "outputId": "12f0688b-795d-4e81-8cf9-a2f27e78c542"
      },
      "source": [
        "import pandas as pd \n",
        "import numpy as np\n",
        "import matplotlib.pyplot as plt\n",
        "import seaborn as sns\n",
        "import xgboost as xgb\n",
        "from google.colab import files\n",
        "from xgboost import XGBClassifier\n",
        "from sklearn.model_selection import train_test_split\n",
        "from sklearn.impute import KNNImputer\n",
        "from sklearn.preprocessing import OneHotEncoder\n",
        "from sklearn.preprocessing import LabelEncoder\n",
        "from sklearn.preprocessing import MinMaxScaler, StandardScaler\n",
        "from sklearn.neighbors import KNeighborsClassifier\n",
        "from sklearn.feature_selection import chi2,mutual_info_classif,f_classif\n",
        "from sklearn.feature_selection import SelectKBest, SelectPercentile\n",
        "from imblearn.over_sampling import SMOTE\n",
        "from sklearn.linear_model import LogisticRegression\n",
        "from sklearn.metrics import classification, classification_report,confusion_matrix\n",
        "from sklearn.metrics import roc_curve\n",
        "from sklearn.metrics import roc_auc_score\n",
        "from sklearn.model_selection import RandomizedSearchCV\n",
        "from sklearn.ensemble import RandomForestClassifier"
      ],
      "execution_count": 2,
      "outputs": [
        {
          "output_type": "stream",
          "text": [
            "/usr/local/lib/python3.7/dist-packages/sklearn/externals/six.py:31: FutureWarning: The module is deprecated in version 0.21 and will be removed in version 0.23 since we've dropped support for Python 2.7. Please rely on the official version of six (https://pypi.org/project/six/).\n",
            "  \"(https://pypi.org/project/six/).\", FutureWarning)\n",
            "/usr/local/lib/python3.7/dist-packages/sklearn/utils/deprecation.py:144: FutureWarning: The sklearn.neighbors.base module is  deprecated in version 0.22 and will be removed in version 0.24. The corresponding classes / functions should instead be imported from sklearn.neighbors. Anything that cannot be imported from sklearn.neighbors is now part of the private API.\n",
            "  warnings.warn(message, FutureWarning)\n",
            "/usr/local/lib/python3.7/dist-packages/sklearn/utils/deprecation.py:144: FutureWarning: The sklearn.metrics.classification module is  deprecated in version 0.22 and will be removed in version 0.24. The corresponding classes / functions should instead be imported from sklearn.metrics. Anything that cannot be imported from sklearn.metrics is now part of the private API.\n",
            "  warnings.warn(message, FutureWarning)\n"
          ],
          "name": "stderr"
        }
      ]
    },
    {
      "cell_type": "code",
      "metadata": {
        "id": "HkzMgaiXmBXP"
      },
      "source": [
        "df_train = pd.read_csv('/content/drive/MyDrive/dataset/BRI Hackathon/train.csv')\n",
        "df_test = pd.read_csv('/content/drive/MyDrive/dataset/BRI Hackathon/test.csv')"
      ],
      "execution_count": 3,
      "outputs": []
    },
    {
      "cell_type": "code",
      "metadata": {
        "id": "06vGUwOZZ5G3",
        "colab": {
          "base_uri": "https://localhost:8080/"
        },
        "outputId": "a4ad9ac8-22ea-4fc4-9601-2b595571fcec"
      },
      "source": [
        "df_train.shape"
      ],
      "execution_count": 4,
      "outputs": [
        {
          "output_type": "execute_result",
          "data": {
            "text/plain": [
              "(11153, 22)"
            ]
          },
          "metadata": {
            "tags": []
          },
          "execution_count": 4
        }
      ]
    },
    {
      "cell_type": "code",
      "metadata": {
        "id": "3tnyc1dsyE06",
        "colab": {
          "base_uri": "https://localhost:8080/",
          "height": 241
        },
        "outputId": "e0ef65bc-771a-42ff-b99d-ca0e4fab17d4"
      },
      "source": [
        "df_train.head()"
      ],
      "execution_count": 5,
      "outputs": [
        {
          "output_type": "execute_result",
          "data": {
            "text/html": [
              "<div>\n",
              "<style scoped>\n",
              "    .dataframe tbody tr th:only-of-type {\n",
              "        vertical-align: middle;\n",
              "    }\n",
              "\n",
              "    .dataframe tbody tr th {\n",
              "        vertical-align: top;\n",
              "    }\n",
              "\n",
              "    .dataframe thead th {\n",
              "        text-align: right;\n",
              "    }\n",
              "</style>\n",
              "<table border=\"1\" class=\"dataframe\">\n",
              "  <thead>\n",
              "    <tr style=\"text-align: right;\">\n",
              "      <th></th>\n",
              "      <th>job_level</th>\n",
              "      <th>job_duration_in_current_job_level</th>\n",
              "      <th>person_level</th>\n",
              "      <th>job_duration_in_current_person_level</th>\n",
              "      <th>job_duration_in_current_branch</th>\n",
              "      <th>Employee_type</th>\n",
              "      <th>gender</th>\n",
              "      <th>age</th>\n",
              "      <th>marital_status_maried(Y/N)</th>\n",
              "      <th>number_of_dependences</th>\n",
              "      <th>Education_level</th>\n",
              "      <th>GPA</th>\n",
              "      <th>year_graduated</th>\n",
              "      <th>job_duration_from_training</th>\n",
              "      <th>branch_rotation</th>\n",
              "      <th>job_rotation</th>\n",
              "      <th>assign_of_otherposition</th>\n",
              "      <th>annual leave</th>\n",
              "      <th>sick_leaves</th>\n",
              "      <th>Last_achievement_%</th>\n",
              "      <th>Achievement_above_100%_during3quartal</th>\n",
              "      <th>Best Performance</th>\n",
              "    </tr>\n",
              "  </thead>\n",
              "  <tbody>\n",
              "    <tr>\n",
              "      <th>0</th>\n",
              "      <td>JG04</td>\n",
              "      <td>1.352775</td>\n",
              "      <td>PG03</td>\n",
              "      <td>1.352775</td>\n",
              "      <td>1.732051</td>\n",
              "      <td>RM_type_A</td>\n",
              "      <td>2</td>\n",
              "      <td>1985</td>\n",
              "      <td>Y</td>\n",
              "      <td>1</td>\n",
              "      <td>level_0</td>\n",
              "      <td>2.86</td>\n",
              "      <td>2011</td>\n",
              "      <td>4</td>\n",
              "      <td>2</td>\n",
              "      <td>3</td>\n",
              "      <td>2</td>\n",
              "      <td>3</td>\n",
              "      <td>0</td>\n",
              "      <td>46.37</td>\n",
              "      <td>0.0</td>\n",
              "      <td>0</td>\n",
              "    </tr>\n",
              "    <tr>\n",
              "      <th>1</th>\n",
              "      <td>JG04</td>\n",
              "      <td>1.292285</td>\n",
              "      <td>PG03</td>\n",
              "      <td>1.292285</td>\n",
              "      <td>1.039230</td>\n",
              "      <td>RM_type_A</td>\n",
              "      <td>2</td>\n",
              "      <td>1989</td>\n",
              "      <td>Y</td>\n",
              "      <td>0</td>\n",
              "      <td>level_1</td>\n",
              "      <td>7.28</td>\n",
              "      <td>2007</td>\n",
              "      <td>4</td>\n",
              "      <td>4</td>\n",
              "      <td>3</td>\n",
              "      <td>0</td>\n",
              "      <td>0</td>\n",
              "      <td>1</td>\n",
              "      <td>47.68</td>\n",
              "      <td>0.0</td>\n",
              "      <td>0</td>\n",
              "    </tr>\n",
              "    <tr>\n",
              "      <th>2</th>\n",
              "      <td>JG05</td>\n",
              "      <td>2.565151</td>\n",
              "      <td>PG06</td>\n",
              "      <td>2.308679</td>\n",
              "      <td>1.780449</td>\n",
              "      <td>RM_type_C</td>\n",
              "      <td>1</td>\n",
              "      <td>1970</td>\n",
              "      <td>Y</td>\n",
              "      <td>1</td>\n",
              "      <td>level_1</td>\n",
              "      <td>0.00</td>\n",
              "      <td>1989</td>\n",
              "      <td>28</td>\n",
              "      <td>10</td>\n",
              "      <td>9</td>\n",
              "      <td>6</td>\n",
              "      <td>2</td>\n",
              "      <td>1</td>\n",
              "      <td>40.73</td>\n",
              "      <td>0.0</td>\n",
              "      <td>0</td>\n",
              "    </tr>\n",
              "    <tr>\n",
              "      <th>3</th>\n",
              "      <td>JG05</td>\n",
              "      <td>2.828427</td>\n",
              "      <td>PG06</td>\n",
              "      <td>1.000000</td>\n",
              "      <td>1.385641</td>\n",
              "      <td>RM_type_A</td>\n",
              "      <td>2</td>\n",
              "      <td>1967</td>\n",
              "      <td>Y</td>\n",
              "      <td>2</td>\n",
              "      <td>level_1</td>\n",
              "      <td>0.00</td>\n",
              "      <td>1987</td>\n",
              "      <td>29</td>\n",
              "      <td>11</td>\n",
              "      <td>6</td>\n",
              "      <td>0</td>\n",
              "      <td>4</td>\n",
              "      <td>10</td>\n",
              "      <td>47.42</td>\n",
              "      <td>0.0</td>\n",
              "      <td>1</td>\n",
              "    </tr>\n",
              "    <tr>\n",
              "      <th>4</th>\n",
              "      <td>JG05</td>\n",
              "      <td>2.828427</td>\n",
              "      <td>PG06</td>\n",
              "      <td>2.828427</td>\n",
              "      <td>0.707107</td>\n",
              "      <td>RM_type_A</td>\n",
              "      <td>2</td>\n",
              "      <td>1965</td>\n",
              "      <td>Y</td>\n",
              "      <td>3</td>\n",
              "      <td>level_1</td>\n",
              "      <td>7.20</td>\n",
              "      <td>1985</td>\n",
              "      <td>30</td>\n",
              "      <td>9</td>\n",
              "      <td>8</td>\n",
              "      <td>2</td>\n",
              "      <td>3</td>\n",
              "      <td>0</td>\n",
              "      <td>47.18</td>\n",
              "      <td>0.0</td>\n",
              "      <td>0</td>\n",
              "    </tr>\n",
              "  </tbody>\n",
              "</table>\n",
              "</div>"
            ],
            "text/plain": [
              "  job_level  ...  Best Performance\n",
              "0      JG04  ...                 0\n",
              "1      JG04  ...                 0\n",
              "2      JG05  ...                 0\n",
              "3      JG05  ...                 1\n",
              "4      JG05  ...                 0\n",
              "\n",
              "[5 rows x 22 columns]"
            ]
          },
          "metadata": {
            "tags": []
          },
          "execution_count": 5
        }
      ]
    },
    {
      "cell_type": "code",
      "metadata": {
        "id": "4wY5PtCZFDbg",
        "colab": {
          "base_uri": "https://localhost:8080/"
        },
        "outputId": "c4805d81-ee1f-46ec-916e-939602225a19"
      },
      "source": [
        "# Check Missing Values\n",
        "df_train.isnull().sum()"
      ],
      "execution_count": 6,
      "outputs": [
        {
          "output_type": "execute_result",
          "data": {
            "text/plain": [
              "job_level                                0\n",
              "job_duration_in_current_job_level        0\n",
              "person_level                             0\n",
              "job_duration_in_current_person_level     0\n",
              "job_duration_in_current_branch           0\n",
              "Employee_type                            0\n",
              "gender                                   0\n",
              "age                                      0\n",
              "marital_status_maried(Y/N)               0\n",
              "number_of_dependences                    0\n",
              "Education_level                          0\n",
              "GPA                                      0\n",
              "year_graduated                           0\n",
              "job_duration_from_training               0\n",
              "branch_rotation                          0\n",
              "job_rotation                             0\n",
              "assign_of_otherposition                  0\n",
              "annual leave                             0\n",
              "sick_leaves                              0\n",
              "Last_achievement_%                       1\n",
              "Achievement_above_100%_during3quartal    1\n",
              "Best Performance                         0\n",
              "dtype: int64"
            ]
          },
          "metadata": {
            "tags": []
          },
          "execution_count": 6
        }
      ]
    },
    {
      "cell_type": "code",
      "metadata": {
        "id": "6H5aiNjhx-sA",
        "colab": {
          "base_uri": "https://localhost:8080/"
        },
        "outputId": "23d4f431-5b91-498d-a230-d492252bb204"
      },
      "source": [
        "df_train.info()"
      ],
      "execution_count": 7,
      "outputs": [
        {
          "output_type": "stream",
          "text": [
            "<class 'pandas.core.frame.DataFrame'>\n",
            "RangeIndex: 11153 entries, 0 to 11152\n",
            "Data columns (total 22 columns):\n",
            " #   Column                                 Non-Null Count  Dtype  \n",
            "---  ------                                 --------------  -----  \n",
            " 0   job_level                              11153 non-null  object \n",
            " 1   job_duration_in_current_job_level      11153 non-null  float64\n",
            " 2   person_level                           11153 non-null  object \n",
            " 3   job_duration_in_current_person_level   11153 non-null  float64\n",
            " 4   job_duration_in_current_branch         11153 non-null  float64\n",
            " 5   Employee_type                          11153 non-null  object \n",
            " 6   gender                                 11153 non-null  int64  \n",
            " 7   age                                    11153 non-null  int64  \n",
            " 8   marital_status_maried(Y/N)             11153 non-null  object \n",
            " 9   number_of_dependences                  11153 non-null  int64  \n",
            " 10  Education_level                        11153 non-null  object \n",
            " 11  GPA                                    11153 non-null  float64\n",
            " 12  year_graduated                         11153 non-null  int64  \n",
            " 13  job_duration_from_training             11153 non-null  int64  \n",
            " 14  branch_rotation                        11153 non-null  int64  \n",
            " 15  job_rotation                           11153 non-null  int64  \n",
            " 16  assign_of_otherposition                11153 non-null  int64  \n",
            " 17  annual leave                           11153 non-null  int64  \n",
            " 18  sick_leaves                            11153 non-null  int64  \n",
            " 19  Last_achievement_%                     11152 non-null  float64\n",
            " 20  Achievement_above_100%_during3quartal  11152 non-null  float64\n",
            " 21  Best Performance                       11153 non-null  int64  \n",
            "dtypes: float64(6), int64(11), object(5)\n",
            "memory usage: 1.9+ MB\n"
          ],
          "name": "stdout"
        }
      ]
    },
    {
      "cell_type": "code",
      "metadata": {
        "id": "Tgukpcttyi15",
        "colab": {
          "base_uri": "https://localhost:8080/"
        },
        "outputId": "865708d5-5ce7-485e-b0d4-ee268fd56d3e"
      },
      "source": [
        "df_test.info()"
      ],
      "execution_count": 8,
      "outputs": [
        {
          "output_type": "stream",
          "text": [
            "<class 'pandas.core.frame.DataFrame'>\n",
            "RangeIndex: 6000 entries, 0 to 5999\n",
            "Data columns (total 21 columns):\n",
            " #   Column                                 Non-Null Count  Dtype  \n",
            "---  ------                                 --------------  -----  \n",
            " 0   job_level                              6000 non-null   object \n",
            " 1   job_duration_in_current_job_level      6000 non-null   float64\n",
            " 2   person_level                           6000 non-null   object \n",
            " 3   job_duration_in_current_person_level   6000 non-null   float64\n",
            " 4   job_duration_in_current_branch         6000 non-null   float64\n",
            " 5   Employee_type                          6000 non-null   object \n",
            " 6   gender                                 6000 non-null   int64  \n",
            " 7   age                                    6000 non-null   int64  \n",
            " 8   marital_status_maried(Y/N)             6000 non-null   object \n",
            " 9   number_of_dependences                  6000 non-null   int64  \n",
            " 10  Education_level                        6000 non-null   object \n",
            " 11  GPA                                    6000 non-null   float64\n",
            " 12  year_graduated                         6000 non-null   int64  \n",
            " 13  job_duration_from_training             6000 non-null   int64  \n",
            " 14  branch_rotation                        6000 non-null   int64  \n",
            " 15  job_rotation                           6000 non-null   int64  \n",
            " 16  assign_of_otherposition                6000 non-null   int64  \n",
            " 17  annual leave                           6000 non-null   int64  \n",
            " 18  sick_leaves                            6000 non-null   int64  \n",
            " 19  Last_achievement_%                     6000 non-null   float64\n",
            " 20  Achievement_above_100%_during3quartal  6000 non-null   float64\n",
            "dtypes: float64(6), int64(10), object(5)\n",
            "memory usage: 984.5+ KB\n"
          ],
          "name": "stdout"
        }
      ]
    },
    {
      "cell_type": "code",
      "metadata": {
        "id": "W5YS28p1ZTk7",
        "colab": {
          "base_uri": "https://localhost:8080/"
        },
        "outputId": "c2334d1e-a79e-4be6-b425-fda402c421dd"
      },
      "source": [
        "## numerical variables\n",
        "numerical_var = [feature for feature in df_train.columns if df_train[feature].dtypes != 'O']\n",
        "numerical_var"
      ],
      "execution_count": 9,
      "outputs": [
        {
          "output_type": "execute_result",
          "data": {
            "text/plain": [
              "['job_duration_in_current_job_level',\n",
              " 'job_duration_in_current_person_level',\n",
              " 'job_duration_in_current_branch',\n",
              " 'gender',\n",
              " 'age',\n",
              " 'number_of_dependences',\n",
              " 'GPA',\n",
              " 'year_graduated',\n",
              " 'job_duration_from_training',\n",
              " 'branch_rotation',\n",
              " 'job_rotation',\n",
              " 'assign_of_otherposition',\n",
              " 'annual leave',\n",
              " 'sick_leaves',\n",
              " 'Last_achievement_%',\n",
              " 'Achievement_above_100%_during3quartal',\n",
              " 'Best Performance']"
            ]
          },
          "metadata": {
            "tags": []
          },
          "execution_count": 9
        }
      ]
    },
    {
      "cell_type": "code",
      "metadata": {
        "id": "mGHWntBRZmOu",
        "colab": {
          "base_uri": "https://localhost:8080/"
        },
        "outputId": "84e393f4-8c2f-4083-9547-971ab2575486"
      },
      "source": [
        "## categorical variables\n",
        "categorical_var = [feature for feature in df_train.columns if df_train[feature].dtypes == 'O']\n",
        "categorical_var"
      ],
      "execution_count": 10,
      "outputs": [
        {
          "output_type": "execute_result",
          "data": {
            "text/plain": [
              "['job_level',\n",
              " 'person_level',\n",
              " 'Employee_type',\n",
              " 'marital_status_maried(Y/N)',\n",
              " 'Education_level']"
            ]
          },
          "metadata": {
            "tags": []
          },
          "execution_count": 10
        }
      ]
    },
    {
      "cell_type": "code",
      "metadata": {
        "id": "_sLPTbYgVuhI"
      },
      "source": [
        "## change object to category\n",
        "\n",
        "df_train['job_level'] = df_train['job_level'].astype('category')\n",
        "df_train['person_level'] = df_train['person_level'].astype('category')\n",
        "df_train['Employee_type'] = df_train['Employee_type'].astype('category')\n",
        "df_train['marital_status_maried(Y/N)'] = df_train['marital_status_maried(Y/N)'].astype('category')\n",
        "df_train['Education_level'] = df_train['Education_level'].astype('category')\n",
        "df_train['Best Performance'] = df_train['Best Performance'].astype('category')\n",
        "df_train['gender'] = df_train['gender'].astype('category')\n",
        "\n",
        "df_test['job_level'] = df_test['job_level'].astype('category')\n",
        "df_test['person_level'] = df_test['person_level'].astype('category')\n",
        "df_test['Employee_type'] = df_test['Employee_type'].astype('category')\n",
        "df_test['marital_status_maried(Y/N)'] = df_test['marital_status_maried(Y/N)'].astype('category')\n",
        "df_test['Education_level'] = df_test['Education_level'].astype('category')\n",
        "df_test['gender'] = df_test['gender'].astype('category')"
      ],
      "execution_count": 11,
      "outputs": []
    },
    {
      "cell_type": "code",
      "metadata": {
        "id": "YvkzXBnjWmO1",
        "colab": {
          "base_uri": "https://localhost:8080/"
        },
        "outputId": "30fa8d67-0353-479f-9521-b28bb02a0cde"
      },
      "source": [
        "df_train.info()"
      ],
      "execution_count": 12,
      "outputs": [
        {
          "output_type": "stream",
          "text": [
            "<class 'pandas.core.frame.DataFrame'>\n",
            "RangeIndex: 11153 entries, 0 to 11152\n",
            "Data columns (total 22 columns):\n",
            " #   Column                                 Non-Null Count  Dtype   \n",
            "---  ------                                 --------------  -----   \n",
            " 0   job_level                              11153 non-null  category\n",
            " 1   job_duration_in_current_job_level      11153 non-null  float64 \n",
            " 2   person_level                           11153 non-null  category\n",
            " 3   job_duration_in_current_person_level   11153 non-null  float64 \n",
            " 4   job_duration_in_current_branch         11153 non-null  float64 \n",
            " 5   Employee_type                          11153 non-null  category\n",
            " 6   gender                                 11153 non-null  category\n",
            " 7   age                                    11153 non-null  int64   \n",
            " 8   marital_status_maried(Y/N)             11153 non-null  category\n",
            " 9   number_of_dependences                  11153 non-null  int64   \n",
            " 10  Education_level                        11153 non-null  category\n",
            " 11  GPA                                    11153 non-null  float64 \n",
            " 12  year_graduated                         11153 non-null  int64   \n",
            " 13  job_duration_from_training             11153 non-null  int64   \n",
            " 14  branch_rotation                        11153 non-null  int64   \n",
            " 15  job_rotation                           11153 non-null  int64   \n",
            " 16  assign_of_otherposition                11153 non-null  int64   \n",
            " 17  annual leave                           11153 non-null  int64   \n",
            " 18  sick_leaves                            11153 non-null  int64   \n",
            " 19  Last_achievement_%                     11152 non-null  float64 \n",
            " 20  Achievement_above_100%_during3quartal  11152 non-null  float64 \n",
            " 21  Best Performance                       11153 non-null  category\n",
            "dtypes: category(7), float64(6), int64(9)\n",
            "memory usage: 1.4 MB\n"
          ],
          "name": "stdout"
        }
      ]
    },
    {
      "cell_type": "code",
      "metadata": {
        "id": "hkrMSnAJW6lA",
        "colab": {
          "base_uri": "https://localhost:8080/"
        },
        "outputId": "d8c699fb-5774-4a0d-dd74-69938a1d47ed"
      },
      "source": [
        "df_test.info()"
      ],
      "execution_count": 13,
      "outputs": [
        {
          "output_type": "stream",
          "text": [
            "<class 'pandas.core.frame.DataFrame'>\n",
            "RangeIndex: 6000 entries, 0 to 5999\n",
            "Data columns (total 21 columns):\n",
            " #   Column                                 Non-Null Count  Dtype   \n",
            "---  ------                                 --------------  -----   \n",
            " 0   job_level                              6000 non-null   category\n",
            " 1   job_duration_in_current_job_level      6000 non-null   float64 \n",
            " 2   person_level                           6000 non-null   category\n",
            " 3   job_duration_in_current_person_level   6000 non-null   float64 \n",
            " 4   job_duration_in_current_branch         6000 non-null   float64 \n",
            " 5   Employee_type                          6000 non-null   category\n",
            " 6   gender                                 6000 non-null   category\n",
            " 7   age                                    6000 non-null   int64   \n",
            " 8   marital_status_maried(Y/N)             6000 non-null   category\n",
            " 9   number_of_dependences                  6000 non-null   int64   \n",
            " 10  Education_level                        6000 non-null   category\n",
            " 11  GPA                                    6000 non-null   float64 \n",
            " 12  year_graduated                         6000 non-null   int64   \n",
            " 13  job_duration_from_training             6000 non-null   int64   \n",
            " 14  branch_rotation                        6000 non-null   int64   \n",
            " 15  job_rotation                           6000 non-null   int64   \n",
            " 16  assign_of_otherposition                6000 non-null   int64   \n",
            " 17  annual leave                           6000 non-null   int64   \n",
            " 18  sick_leaves                            6000 non-null   int64   \n",
            " 19  Last_achievement_%                     6000 non-null   float64 \n",
            " 20  Achievement_above_100%_during3quartal  6000 non-null   float64 \n",
            "dtypes: category(6), float64(6), int64(9)\n",
            "memory usage: 739.5 KB\n"
          ],
          "name": "stdout"
        }
      ]
    },
    {
      "cell_type": "code",
      "metadata": {
        "id": "6dprjLnx0jH6"
      },
      "source": [
        "corr = df_train.corr()"
      ],
      "execution_count": 14,
      "outputs": []
    },
    {
      "cell_type": "code",
      "metadata": {
        "id": "DLmU4DNT179S",
        "colab": {
          "base_uri": "https://localhost:8080/",
          "height": 816
        },
        "outputId": "28d61e51-8847-44d3-a17b-6c71957a49b5"
      },
      "source": [
        "plt.figure(figsize=(18,10))\n",
        "sns.heatmap(corr,annot=True)"
      ],
      "execution_count": 15,
      "outputs": [
        {
          "output_type": "execute_result",
          "data": {
            "text/plain": [
              "<matplotlib.axes._subplots.AxesSubplot at 0x7ff8eb8d95d0>"
            ]
          },
          "metadata": {
            "tags": []
          },
          "execution_count": 15
        },
        {
          "output_type": "display_data",
          "data": {
            "image/png": "[encoded data removed]",
            "text/plain": [
              "<Figure size 1296x720 with 2 Axes>"
            ]
          },
          "metadata": {
            "tags": [],
            "needs_background": "light"
          }
        }
      ]
    },
    {
      "cell_type": "code",
      "metadata": {
        "id": "-Ks5VJ6LeYtI",
        "colab": {
          "base_uri": "https://localhost:8080/",
          "height": 816
        },
        "outputId": "8f9068e5-ba5e-44e3-a597-d125b5176bc9"
      },
      "source": [
        "corr = df_train.corr(method='spearman')\n",
        "plt.figure(figsize=(18,10))\n",
        "sns.heatmap(corr,annot=True)\n"
      ],
      "execution_count": 16,
      "outputs": [
        {
          "output_type": "execute_result",
          "data": {
            "text/plain": [
              "<matplotlib.axes._subplots.AxesSubplot at 0x7ff90d7e7a50>"
            ]
          },
          "metadata": {
            "tags": []
          },
          "execution_count": 16
        },
        {
          "output_type": "display_data",
          "data": {
            "image/png": "[encoded data removed]",
            "text/plain": [
              "<Figure size 1296x720 with 2 Axes>"
            ]
          },
          "metadata": {
            "tags": [],
            "needs_background": "light"
          }
        }
      ]
    },
    {
      "cell_type": "markdown",
      "metadata": {
        "id": "CRq0WrKOFubY"
      },
      "source": [
        "# **FEATURE ENGINEERING**\n",
        "\n",
        "\n",
        "\n"
      ]
    },
    {
      "cell_type": "code",
      "metadata": {
        "id": "Cy0j5CSm3soP"
      },
      "source": [
        "data_train = df_train.copy()\n",
        "data_test = df_test.copy()"
      ],
      "execution_count": 22,
      "outputs": []
    },
    {
      "cell_type": "code",
      "metadata": {
        "id": "dt59o_QizRNa",
        "colab": {
          "base_uri": "https://localhost:8080/"
        },
        "outputId": "8a9cc013-78e0-4615-d495-4bbfe60b933c"
      },
      "source": [
        "data_train.info()"
      ],
      "execution_count": 23,
      "outputs": [
        {
          "output_type": "stream",
          "text": [
            "<class 'pandas.core.frame.DataFrame'>\n",
            "RangeIndex: 11153 entries, 0 to 11152\n",
            "Data columns (total 22 columns):\n",
            " #   Column                                 Non-Null Count  Dtype   \n",
            "---  ------                                 --------------  -----   \n",
            " 0   job_level                              11153 non-null  category\n",
            " 1   job_duration_in_current_job_level      11153 non-null  float64 \n",
            " 2   person_level                           11153 non-null  category\n",
            " 3   job_duration_in_current_person_level   11153 non-null  float64 \n",
            " 4   job_duration_in_current_branch         11153 non-null  float64 \n",
            " 5   Employee_type                          11153 non-null  category\n",
            " 6   gender                                 11153 non-null  category\n",
            " 7   age                                    11153 non-null  int64   \n",
            " 8   marital_status_maried(Y/N)             11153 non-null  category\n",
            " 9   number_of_dependences                  11153 non-null  int64   \n",
            " 10  Education_level                        11153 non-null  category\n",
            " 11  GPA                                    11153 non-null  float64 \n",
            " 12  year_graduated                         11153 non-null  int64   \n",
            " 13  job_duration_from_training             11153 non-null  int64   \n",
            " 14  branch_rotation                        11153 non-null  int64   \n",
            " 15  job_rotation                           11153 non-null  int64   \n",
            " 16  assign_of_otherposition                11153 non-null  int64   \n",
            " 17  annual leave                           11153 non-null  int64   \n",
            " 18  sick_leaves                            11153 non-null  int64   \n",
            " 19  Last_achievement_%                     11152 non-null  float64 \n",
            " 20  Achievement_above_100%_during3quartal  11152 non-null  float64 \n",
            " 21  Best Performance                       11153 non-null  category\n",
            "dtypes: category(7), float64(6), int64(9)\n",
            "memory usage: 1.4 MB\n"
          ],
          "name": "stdout"
        }
      ]
    },
    {
      "cell_type": "code",
      "metadata": {
        "id": "cdSuZrVW-i9C",
        "colab": {
          "base_uri": "https://localhost:8080/"
        },
        "outputId": "6ff4862b-d64c-4ef7-93d7-aefa5c52ea99"
      },
      "source": [
        "# Check Missing Values\n",
        "data_train.isnull().sum()"
      ],
      "execution_count": 24,
      "outputs": [
        {
          "output_type": "execute_result",
          "data": {
            "text/plain": [
              "job_level                                0\n",
              "job_duration_in_current_job_level        0\n",
              "person_level                             0\n",
              "job_duration_in_current_person_level     0\n",
              "job_duration_in_current_branch           0\n",
              "Employee_type                            0\n",
              "gender                                   0\n",
              "age                                      0\n",
              "marital_status_maried(Y/N)               0\n",
              "number_of_dependences                    0\n",
              "Education_level                          0\n",
              "GPA                                      0\n",
              "year_graduated                           0\n",
              "job_duration_from_training               0\n",
              "branch_rotation                          0\n",
              "job_rotation                             0\n",
              "assign_of_otherposition                  0\n",
              "annual leave                             0\n",
              "sick_leaves                              0\n",
              "Last_achievement_%                       1\n",
              "Achievement_above_100%_during3quartal    1\n",
              "Best Performance                         0\n",
              "dtype: int64"
            ]
          },
          "metadata": {
            "tags": []
          },
          "execution_count": 24
        }
      ]
    },
    {
      "cell_type": "code",
      "metadata": {
        "id": "Z7I8iy6kM-IC"
      },
      "source": [
        "# Delete all missing values\n",
        "data_train = data_train.dropna()"
      ],
      "execution_count": 25,
      "outputs": []
    },
    {
      "cell_type": "code",
      "metadata": {
        "id": "G76rQdR8NFbk",
        "colab": {
          "base_uri": "https://localhost:8080/"
        },
        "outputId": "aeb19f09-9753-46a0-e273-fa9000e7d974"
      },
      "source": [
        "# Check Missing Values\n",
        "data_train.isnull().sum()"
      ],
      "execution_count": 26,
      "outputs": [
        {
          "output_type": "execute_result",
          "data": {
            "text/plain": [
              "job_level                                0\n",
              "job_duration_in_current_job_level        0\n",
              "person_level                             0\n",
              "job_duration_in_current_person_level     0\n",
              "job_duration_in_current_branch           0\n",
              "Employee_type                            0\n",
              "gender                                   0\n",
              "age                                      0\n",
              "marital_status_maried(Y/N)               0\n",
              "number_of_dependences                    0\n",
              "Education_level                          0\n",
              "GPA                                      0\n",
              "year_graduated                           0\n",
              "job_duration_from_training               0\n",
              "branch_rotation                          0\n",
              "job_rotation                             0\n",
              "assign_of_otherposition                  0\n",
              "annual leave                             0\n",
              "sick_leaves                              0\n",
              "Last_achievement_%                       0\n",
              "Achievement_above_100%_during3quartal    0\n",
              "Best Performance                         0\n",
              "dtype: int64"
            ]
          },
          "metadata": {
            "tags": []
          },
          "execution_count": 26
        }
      ]
    },
    {
      "cell_type": "markdown",
      "metadata": {
        "id": "kiIDa1MDimTq"
      },
      "source": [
        "**Replacing Data**"
      ]
    },
    {
      "cell_type": "code",
      "metadata": {
        "id": "2L6U_zicRDgC"
      },
      "source": [
        "### Converting categorical into numerical\n",
        "#### Categorical Feature ####\n",
        "## Job Level\n",
        "data_train['job_level'] = data_train['job_level'].replace('JG03',0)\n",
        "data_train['job_level'] = data_train['job_level'].replace('JG04',1)\n",
        "data_train['job_level'] = data_train['job_level'].replace('JG05',2)\n",
        "data_train['job_level'] = data_train['job_level'].replace('JG06',3)\n",
        "\n",
        "## Job Level from df_train\n",
        "df_test['job_level'] = df_test['job_level'].replace('JG03',0)\n",
        "df_test['job_level'] = df_test['job_level'].replace('JG04',1)\n",
        "df_test['job_level'] = df_test['job_level'].replace('JG05',2)\n",
        "df_test['job_level'] = df_test['job_level'].replace('JG06',3)\n",
        "\n",
        "\n",
        "## Person Level\n",
        "data_train['person_level'] = data_train['person_level'].replace('PG01',0)\n",
        "data_train['person_level'] = data_train['person_level'].replace('PG02',1)\n",
        "data_train['person_level'] = data_train['person_level'].replace('PG03',2)\n",
        "data_train['person_level'] = data_train['person_level'].replace('PG04',3)\n",
        "data_train['person_level'] = data_train['person_level'].replace('PG05',4)\n",
        "data_train['person_level'] = data_train['person_level'].replace('PG06',5)\n",
        "data_train['person_level'] = data_train['person_level'].replace('PG07',6)\n",
        "data_train['person_level'] = data_train['person_level'].replace('PG08',7)\n",
        "\n",
        "## Person Level from df_test\n",
        "df_test['person_level'] = df_test['person_level'].replace('PG01',0)\n",
        "df_test['person_level'] = df_test['person_level'].replace('PG02',1)\n",
        "df_test['person_level'] = df_test['person_level'].replace('PG03',2)\n",
        "df_test['person_level'] = df_test['person_level'].replace('PG04',3)\n",
        "df_test['person_level'] = df_test['person_level'].replace('PG05',4)\n",
        "df_test['person_level'] = df_test['person_level'].replace('PG06',5)\n",
        "df_test['person_level'] = df_test['person_level'].replace('PG07',6)\n",
        "df_test['person_level'] = df_test['person_level'].replace('PG08',7)\n",
        "\n",
        "## Employee type\n",
        "data_train['Employee_type'] = data_train['Employee_type'].replace('RM_type_A',0)\n",
        "data_train['Employee_type'] = data_train['Employee_type'].replace('RM_type_B',1)\n",
        "data_train['Employee_type'] = data_train['Employee_type'].replace('RM_type_C',2)\n",
        "\n",
        "## Employee type from df_test\n",
        "df_test['Employee_type'] = df_test['Employee_type'].replace('RM_type_A',0)\n",
        "df_test['Employee_type'] = df_test['Employee_type'].replace('RM_type_B',1)\n",
        "df_test['Employee_type'] = df_test['Employee_type'].replace('RM_type_C',2)\n",
        "\n",
        "## Marital Status \n",
        "data_train['marital_status_maried(Y/N)'] = data_train['marital_status_maried(Y/N)'].replace('N',0)\n",
        "data_train['marital_status_maried(Y/N)'] = data_train['marital_status_maried(Y/N)'].replace('Y',1)\n",
        "\n",
        "## Marital Status from df_test\n",
        "df_test['marital_status_maried(Y/N)'] = df_test['marital_status_maried(Y/N)'].replace('N',0)\n",
        "df_test['marital_status_maried(Y/N)'] = df_test['marital_status_maried(Y/N)'].replace('Y',1)\n",
        "\n",
        "## education level\n",
        "data_train['Education_level'] = data_train['Education_level'].replace('level_0',0)\n",
        "data_train['Education_level'] = data_train['Education_level'].replace('level_1',1)\n",
        "data_train['Education_level'] = data_train['Education_level'].replace('level_2',2)\n",
        "data_train['Education_level'] = data_train['Education_level'].replace('level_3',3)\n",
        "data_train['Education_level'] = data_train['Education_level'].replace('level_4',4)\n",
        "data_train['Education_level'] = data_train['Education_level'].replace('level_5',5)\n",
        "\n",
        "## education level from df_test \n",
        "df_test['Education_level'] = df_test['Education_level'].replace('level_0',0)\n",
        "df_test['Education_level'] = df_test['Education_level'].replace('level_1',1)\n",
        "df_test['Education_level'] = df_test['Education_level'].replace('level_2',2)\n",
        "df_test['Education_level'] = df_test['Education_level'].replace('level_3',3)\n",
        "df_test['Education_level'] = df_test['Education_level'].replace('level_4',4)\n",
        "df_test['Education_level'] = df_test['Education_level'].replace('level_5',5)\n"
      ],
      "execution_count": 27,
      "outputs": []
    },
    {
      "cell_type": "code",
      "metadata": {
        "id": "BY5F3leY5Qt8",
        "colab": {
          "base_uri": "https://localhost:8080/"
        },
        "outputId": "050914be-c405-44ba-ca51-749e303bf0c3"
      },
      "source": [
        "# delete duplicate row\n",
        "duplicated_rows = data_train.duplicated()\n",
        "keep_row = [not index for index in duplicated_rows]\n",
        "data_train = data_train[keep_row]\n",
        "data_train.shape\n"
      ],
      "execution_count": 28,
      "outputs": [
        {
          "output_type": "execute_result",
          "data": {
            "text/plain": [
              "(11152, 22)"
            ]
          },
          "metadata": {
            "tags": []
          },
          "execution_count": 28
        }
      ]
    },
    {
      "cell_type": "markdown",
      "metadata": {
        "id": "X_jnSQ0OzH7d"
      },
      "source": [
        "# **Normalization**"
      ]
    },
    {
      "cell_type": "code",
      "metadata": {
        "id": "CusAz2S_Q6Y9",
        "colab": {
          "base_uri": "https://localhost:8080/",
          "height": 241
        },
        "outputId": "78165967-4964-423e-bc2b-55167c6fc7c0"
      },
      "source": [
        "data_train.head()"
      ],
      "execution_count": 29,
      "outputs": [
        {
          "output_type": "execute_result",
          "data": {
            "text/html": [
              "<div>\n",
              "<style scoped>\n",
              "    .dataframe tbody tr th:only-of-type {\n",
              "        vertical-align: middle;\n",
              "    }\n",
              "\n",
              "    .dataframe tbody tr th {\n",
              "        vertical-align: top;\n",
              "    }\n",
              "\n",
              "    .dataframe thead th {\n",
              "        text-align: right;\n",
              "    }\n",
              "</style>\n",
              "<table border=\"1\" class=\"dataframe\">\n",
              "  <thead>\n",
              "    <tr style=\"text-align: right;\">\n",
              "      <th></th>\n",
              "      <th>job_level</th>\n",
              "      <th>job_duration_in_current_job_level</th>\n",
              "      <th>person_level</th>\n",
              "      <th>job_duration_in_current_person_level</th>\n",
              "      <th>job_duration_in_current_branch</th>\n",
              "      <th>Employee_type</th>\n",
              "      <th>gender</th>\n",
              "      <th>age</th>\n",
              "      <th>marital_status_maried(Y/N)</th>\n",
              "      <th>number_of_dependences</th>\n",
              "      <th>Education_level</th>\n",
              "      <th>GPA</th>\n",
              "      <th>year_graduated</th>\n",
              "      <th>job_duration_from_training</th>\n",
              "      <th>branch_rotation</th>\n",
              "      <th>job_rotation</th>\n",
              "      <th>assign_of_otherposition</th>\n",
              "      <th>annual leave</th>\n",
              "      <th>sick_leaves</th>\n",
              "      <th>Last_achievement_%</th>\n",
              "      <th>Achievement_above_100%_during3quartal</th>\n",
              "      <th>Best Performance</th>\n",
              "    </tr>\n",
              "  </thead>\n",
              "  <tbody>\n",
              "    <tr>\n",
              "      <th>0</th>\n",
              "      <td>1</td>\n",
              "      <td>1.352775</td>\n",
              "      <td>2</td>\n",
              "      <td>1.352775</td>\n",
              "      <td>1.732051</td>\n",
              "      <td>0</td>\n",
              "      <td>2</td>\n",
              "      <td>1985</td>\n",
              "      <td>1</td>\n",
              "      <td>1</td>\n",
              "      <td>0</td>\n",
              "      <td>2.86</td>\n",
              "      <td>2011</td>\n",
              "      <td>4</td>\n",
              "      <td>2</td>\n",
              "      <td>3</td>\n",
              "      <td>2</td>\n",
              "      <td>3</td>\n",
              "      <td>0</td>\n",
              "      <td>46.37</td>\n",
              "      <td>0.0</td>\n",
              "      <td>0</td>\n",
              "    </tr>\n",
              "    <tr>\n",
              "      <th>1</th>\n",
              "      <td>1</td>\n",
              "      <td>1.292285</td>\n",
              "      <td>2</td>\n",
              "      <td>1.292285</td>\n",
              "      <td>1.039230</td>\n",
              "      <td>0</td>\n",
              "      <td>2</td>\n",
              "      <td>1989</td>\n",
              "      <td>1</td>\n",
              "      <td>0</td>\n",
              "      <td>1</td>\n",
              "      <td>7.28</td>\n",
              "      <td>2007</td>\n",
              "      <td>4</td>\n",
              "      <td>4</td>\n",
              "      <td>3</td>\n",
              "      <td>0</td>\n",
              "      <td>0</td>\n",
              "      <td>1</td>\n",
              "      <td>47.68</td>\n",
              "      <td>0.0</td>\n",
              "      <td>0</td>\n",
              "    </tr>\n",
              "    <tr>\n",
              "      <th>2</th>\n",
              "      <td>2</td>\n",
              "      <td>2.565151</td>\n",
              "      <td>5</td>\n",
              "      <td>2.308679</td>\n",
              "      <td>1.780449</td>\n",
              "      <td>2</td>\n",
              "      <td>1</td>\n",
              "      <td>1970</td>\n",
              "      <td>1</td>\n",
              "      <td>1</td>\n",
              "      <td>1</td>\n",
              "      <td>0.00</td>\n",
              "      <td>1989</td>\n",
              "      <td>28</td>\n",
              "      <td>10</td>\n",
              "      <td>9</td>\n",
              "      <td>6</td>\n",
              "      <td>2</td>\n",
              "      <td>1</td>\n",
              "      <td>40.73</td>\n",
              "      <td>0.0</td>\n",
              "      <td>0</td>\n",
              "    </tr>\n",
              "    <tr>\n",
              "      <th>3</th>\n",
              "      <td>2</td>\n",
              "      <td>2.828427</td>\n",
              "      <td>5</td>\n",
              "      <td>1.000000</td>\n",
              "      <td>1.385641</td>\n",
              "      <td>0</td>\n",
              "      <td>2</td>\n",
              "      <td>1967</td>\n",
              "      <td>1</td>\n",
              "      <td>2</td>\n",
              "      <td>1</td>\n",
              "      <td>0.00</td>\n",
              "      <td>1987</td>\n",
              "      <td>29</td>\n",
              "      <td>11</td>\n",
              "      <td>6</td>\n",
              "      <td>0</td>\n",
              "      <td>4</td>\n",
              "      <td>10</td>\n",
              "      <td>47.42</td>\n",
              "      <td>0.0</td>\n",
              "      <td>1</td>\n",
              "    </tr>\n",
              "    <tr>\n",
              "      <th>4</th>\n",
              "      <td>2</td>\n",
              "      <td>2.828427</td>\n",
              "      <td>5</td>\n",
              "      <td>2.828427</td>\n",
              "      <td>0.707107</td>\n",
              "      <td>0</td>\n",
              "      <td>2</td>\n",
              "      <td>1965</td>\n",
              "      <td>1</td>\n",
              "      <td>3</td>\n",
              "      <td>1</td>\n",
              "      <td>7.20</td>\n",
              "      <td>1985</td>\n",
              "      <td>30</td>\n",
              "      <td>9</td>\n",
              "      <td>8</td>\n",
              "      <td>2</td>\n",
              "      <td>3</td>\n",
              "      <td>0</td>\n",
              "      <td>47.18</td>\n",
              "      <td>0.0</td>\n",
              "      <td>0</td>\n",
              "    </tr>\n",
              "  </tbody>\n",
              "</table>\n",
              "</div>"
            ],
            "text/plain": [
              "  job_level  ...  Best Performance\n",
              "0         1  ...                 0\n",
              "1         1  ...                 0\n",
              "2         2  ...                 0\n",
              "3         2  ...                 1\n",
              "4         2  ...                 0\n",
              "\n",
              "[5 rows x 22 columns]"
            ]
          },
          "metadata": {
            "tags": []
          },
          "execution_count": 29
        }
      ]
    },
    {
      "cell_type": "code",
      "metadata": {
        "id": "PCuLq1NWQ3Kz",
        "colab": {
          "base_uri": "https://localhost:8080/"
        },
        "outputId": "7cb2a817-444b-4337-e412-19804f153e5c"
      },
      "source": [
        "data_train.columns"
      ],
      "execution_count": 30,
      "outputs": [
        {
          "output_type": "execute_result",
          "data": {
            "text/plain": [
              "Index(['job_level', 'job_duration_in_current_job_level', 'person_level',\n",
              "       'job_duration_in_current_person_level',\n",
              "       'job_duration_in_current_branch', 'Employee_type', 'gender', 'age',\n",
              "       'marital_status_maried(Y/N)', 'number_of_dependences',\n",
              "       'Education_level', 'GPA', 'year_graduated',\n",
              "       'job_duration_from_training', 'branch_rotation', 'job_rotation',\n",
              "       'assign_of_otherposition', 'annual leave', 'sick_leaves',\n",
              "       'Last_achievement_%', 'Achievement_above_100%_during3quartal',\n",
              "       'Best Performance'],\n",
              "      dtype='object')"
            ]
          },
          "metadata": {
            "tags": []
          },
          "execution_count": 30
        }
      ]
    },
    {
      "cell_type": "code",
      "metadata": {
        "id": "guT3F3dmzLuA"
      },
      "source": [
        "scaler = StandardScaler()\n",
        "scaled_data = scaler.fit_transform(data_train.drop('Best Performance', axis = 1))"
      ],
      "execution_count": 40,
      "outputs": []
    },
    {
      "cell_type": "code",
      "metadata": {
        "id": "vBMBi4b40v91",
        "colab": {
          "base_uri": "https://localhost:8080/",
          "height": 456
        },
        "outputId": "5c17ce00-5b24-4e0f-b8ad-7abf2b2a1e17"
      },
      "source": [
        "scaled_data = pd.DataFrame(scaled_data, columns= ['job_level', 'job_duration_in_current_job_level', 'person_level',\n",
        "       'job_duration_in_current_person_level',\n",
        "       'job_duration_in_current_branch', 'Employee_type', 'gender', 'age',\n",
        "       'marital_status_maried(Y/N)', 'number_of_dependences',\n",
        "       'Education_level', 'GPA', 'year_graduated',\n",
        "       'job_duration_from_training', 'branch_rotation', 'job_rotation',\n",
        "       'assign_of_otherposition', 'annual leave', 'sick_leaves',\n",
        "       'Last_achievement_%', 'Achievement_above_100%_during3quartal'])\n",
        "scaled_data"
      ],
      "execution_count": 41,
      "outputs": [
        {
          "output_type": "execute_result",
          "data": {
            "text/html": [
              "<div>\n",
              "<style scoped>\n",
              "    .dataframe tbody tr th:only-of-type {\n",
              "        vertical-align: middle;\n",
              "    }\n",
              "\n",
              "    .dataframe tbody tr th {\n",
              "        vertical-align: top;\n",
              "    }\n",
              "\n",
              "    .dataframe thead th {\n",
              "        text-align: right;\n",
              "    }\n",
              "</style>\n",
              "<table border=\"1\" class=\"dataframe\">\n",
              "  <thead>\n",
              "    <tr style=\"text-align: right;\">\n",
              "      <th></th>\n",
              "      <th>job_level</th>\n",
              "      <th>job_duration_in_current_job_level</th>\n",
              "      <th>person_level</th>\n",
              "      <th>job_duration_in_current_person_level</th>\n",
              "      <th>job_duration_in_current_branch</th>\n",
              "      <th>Employee_type</th>\n",
              "      <th>gender</th>\n",
              "      <th>age</th>\n",
              "      <th>marital_status_maried(Y/N)</th>\n",
              "      <th>number_of_dependences</th>\n",
              "      <th>Education_level</th>\n",
              "      <th>GPA</th>\n",
              "      <th>year_graduated</th>\n",
              "      <th>job_duration_from_training</th>\n",
              "      <th>branch_rotation</th>\n",
              "      <th>job_rotation</th>\n",
              "      <th>assign_of_otherposition</th>\n",
              "      <th>annual leave</th>\n",
              "      <th>sick_leaves</th>\n",
              "      <th>Last_achievement_%</th>\n",
              "      <th>Achievement_above_100%_during3quartal</th>\n",
              "    </tr>\n",
              "  </thead>\n",
              "  <tbody>\n",
              "    <tr>\n",
              "      <th>0</th>\n",
              "      <td>-0.239087</td>\n",
              "      <td>-0.186613</td>\n",
              "      <td>-0.331605</td>\n",
              "      <td>0.010940</td>\n",
              "      <td>1.673522</td>\n",
              "      <td>-0.684414</td>\n",
              "      <td>0.599447</td>\n",
              "      <td>-0.180619</td>\n",
              "      <td>0.416859</td>\n",
              "      <td>0.004987</td>\n",
              "      <td>-7.784641</td>\n",
              "      <td>-0.023737</td>\n",
              "      <td>0.443550</td>\n",
              "      <td>-0.452578</td>\n",
              "      <td>-0.717004</td>\n",
              "      <td>-0.278090</td>\n",
              "      <td>0.309566</td>\n",
              "      <td>-0.250499</td>\n",
              "      <td>-0.405301</td>\n",
              "      <td>-1.123126</td>\n",
              "      <td>-0.613250</td>\n",
              "    </tr>\n",
              "    <tr>\n",
              "      <th>1</th>\n",
              "      <td>-0.239087</td>\n",
              "      <td>-0.326934</td>\n",
              "      <td>-0.331605</td>\n",
              "      <td>-0.175378</td>\n",
              "      <td>0.010974</td>\n",
              "      <td>-0.684414</td>\n",
              "      <td>0.599447</td>\n",
              "      <td>0.682947</td>\n",
              "      <td>0.416859</td>\n",
              "      <td>-1.130019</td>\n",
              "      <td>-5.740845</td>\n",
              "      <td>0.308052</td>\n",
              "      <td>-0.528013</td>\n",
              "      <td>-0.452578</td>\n",
              "      <td>0.116654</td>\n",
              "      <td>-0.278090</td>\n",
              "      <td>-0.467099</td>\n",
              "      <td>-1.381495</td>\n",
              "      <td>-0.036479</td>\n",
              "      <td>-1.066242</td>\n",
              "      <td>-0.613250</td>\n",
              "    </tr>\n",
              "    <tr>\n",
              "      <th>2</th>\n",
              "      <td>3.752370</td>\n",
              "      <td>2.625778</td>\n",
              "      <td>4.046527</td>\n",
              "      <td>2.955266</td>\n",
              "      <td>1.789664</td>\n",
              "      <td>2.823209</td>\n",
              "      <td>-1.668204</td>\n",
              "      <td>-3.418992</td>\n",
              "      <td>0.416859</td>\n",
              "      <td>0.004987</td>\n",
              "      <td>-5.740845</td>\n",
              "      <td>-0.238425</td>\n",
              "      <td>-4.900049</td>\n",
              "      <td>4.315440</td>\n",
              "      <td>2.617627</td>\n",
              "      <td>3.022289</td>\n",
              "      <td>1.862896</td>\n",
              "      <td>-0.627498</td>\n",
              "      <td>-0.036479</td>\n",
              "      <td>-1.368030</td>\n",
              "      <td>-0.613250</td>\n",
              "    </tr>\n",
              "    <tr>\n",
              "      <th>3</th>\n",
              "      <td>3.752370</td>\n",
              "      <td>3.236508</td>\n",
              "      <td>4.046527</td>\n",
              "      <td>-1.075658</td>\n",
              "      <td>0.842248</td>\n",
              "      <td>-0.684414</td>\n",
              "      <td>0.599447</td>\n",
              "      <td>-4.066667</td>\n",
              "      <td>0.416859</td>\n",
              "      <td>1.139993</td>\n",
              "      <td>-5.740845</td>\n",
              "      <td>-0.238425</td>\n",
              "      <td>-5.385830</td>\n",
              "      <td>4.514108</td>\n",
              "      <td>3.034455</td>\n",
              "      <td>1.372100</td>\n",
              "      <td>-0.467099</td>\n",
              "      <td>0.126500</td>\n",
              "      <td>3.282923</td>\n",
              "      <td>-1.077532</td>\n",
              "      <td>-0.613250</td>\n",
              "    </tr>\n",
              "    <tr>\n",
              "      <th>4</th>\n",
              "      <td>3.752370</td>\n",
              "      <td>3.236508</td>\n",
              "      <td>4.046527</td>\n",
              "      <td>4.556165</td>\n",
              "      <td>-0.786018</td>\n",
              "      <td>-0.684414</td>\n",
              "      <td>0.599447</td>\n",
              "      <td>-4.498450</td>\n",
              "      <td>0.416859</td>\n",
              "      <td>2.274999</td>\n",
              "      <td>-5.740845</td>\n",
              "      <td>0.302047</td>\n",
              "      <td>-5.871612</td>\n",
              "      <td>4.712775</td>\n",
              "      <td>2.200798</td>\n",
              "      <td>2.472226</td>\n",
              "      <td>0.309566</td>\n",
              "      <td>-0.250499</td>\n",
              "      <td>-0.405301</td>\n",
              "      <td>-1.087953</td>\n",
              "      <td>-0.613250</td>\n",
              "    </tr>\n",
              "    <tr>\n",
              "      <th>...</th>\n",
              "      <td>...</td>\n",
              "      <td>...</td>\n",
              "      <td>...</td>\n",
              "      <td>...</td>\n",
              "      <td>...</td>\n",
              "      <td>...</td>\n",
              "      <td>...</td>\n",
              "      <td>...</td>\n",
              "      <td>...</td>\n",
              "      <td>...</td>\n",
              "      <td>...</td>\n",
              "      <td>...</td>\n",
              "      <td>...</td>\n",
              "      <td>...</td>\n",
              "      <td>...</td>\n",
              "      <td>...</td>\n",
              "      <td>...</td>\n",
              "      <td>...</td>\n",
              "      <td>...</td>\n",
              "      <td>...</td>\n",
              "      <td>...</td>\n",
              "    </tr>\n",
              "    <tr>\n",
              "      <th>11147</th>\n",
              "      <td>-0.239087</td>\n",
              "      <td>-0.408831</td>\n",
              "      <td>-0.331605</td>\n",
              "      <td>-0.284121</td>\n",
              "      <td>0.456149</td>\n",
              "      <td>-0.684414</td>\n",
              "      <td>0.599447</td>\n",
              "      <td>0.035272</td>\n",
              "      <td>0.416859</td>\n",
              "      <td>0.004987</td>\n",
              "      <td>2.434338</td>\n",
              "      <td>0.011543</td>\n",
              "      <td>1.658005</td>\n",
              "      <td>-0.452578</td>\n",
              "      <td>-0.300175</td>\n",
              "      <td>-0.278090</td>\n",
              "      <td>-0.467099</td>\n",
              "      <td>0.126500</td>\n",
              "      <td>-0.036479</td>\n",
              "      <td>-0.927723</td>\n",
              "      <td>-0.613250</td>\n",
              "    </tr>\n",
              "    <tr>\n",
              "      <th>11148</th>\n",
              "      <td>-0.239087</td>\n",
              "      <td>-0.110373</td>\n",
              "      <td>-0.331605</td>\n",
              "      <td>0.112171</td>\n",
              "      <td>1.843240</td>\n",
              "      <td>1.069397</td>\n",
              "      <td>-1.668204</td>\n",
              "      <td>0.467055</td>\n",
              "      <td>0.416859</td>\n",
              "      <td>1.139993</td>\n",
              "      <td>2.434338</td>\n",
              "      <td>-0.013228</td>\n",
              "      <td>1.415114</td>\n",
              "      <td>-0.651245</td>\n",
              "      <td>-1.133833</td>\n",
              "      <td>-0.828153</td>\n",
              "      <td>-0.467099</td>\n",
              "      <td>0.880498</td>\n",
              "      <td>-0.405301</td>\n",
              "      <td>0.333274</td>\n",
              "      <td>-0.613250</td>\n",
              "    </tr>\n",
              "    <tr>\n",
              "      <th>11149</th>\n",
              "      <td>-0.239087</td>\n",
              "      <td>-0.408831</td>\n",
              "      <td>-0.331605</td>\n",
              "      <td>-0.284121</td>\n",
              "      <td>0.842248</td>\n",
              "      <td>1.069397</td>\n",
              "      <td>0.599447</td>\n",
              "      <td>1.114730</td>\n",
              "      <td>0.416859</td>\n",
              "      <td>-1.130019</td>\n",
              "      <td>2.434338</td>\n",
              "      <td>0.022803</td>\n",
              "      <td>1.900895</td>\n",
              "      <td>-0.849912</td>\n",
              "      <td>-1.133833</td>\n",
              "      <td>-0.828153</td>\n",
              "      <td>-0.467099</td>\n",
              "      <td>0.126500</td>\n",
              "      <td>-0.405301</td>\n",
              "      <td>0.266837</td>\n",
              "      <td>-0.613250</td>\n",
              "    </tr>\n",
              "    <tr>\n",
              "      <th>11150</th>\n",
              "      <td>-0.239087</td>\n",
              "      <td>-0.731150</td>\n",
              "      <td>-0.331605</td>\n",
              "      <td>-0.712096</td>\n",
              "      <td>-2.482849</td>\n",
              "      <td>-0.684414</td>\n",
              "      <td>-1.668204</td>\n",
              "      <td>0.251164</td>\n",
              "      <td>0.416859</td>\n",
              "      <td>0.004987</td>\n",
              "      <td>2.434338</td>\n",
              "      <td>0.026557</td>\n",
              "      <td>0.686441</td>\n",
              "      <td>-0.253910</td>\n",
              "      <td>0.533483</td>\n",
              "      <td>0.271973</td>\n",
              "      <td>-0.467099</td>\n",
              "      <td>0.126500</td>\n",
              "      <td>-0.036479</td>\n",
              "      <td>0.595113</td>\n",
              "      <td>0.289822</td>\n",
              "    </tr>\n",
              "    <tr>\n",
              "      <th>11151</th>\n",
              "      <td>-0.239087</td>\n",
              "      <td>3.236508</td>\n",
              "      <td>1.127772</td>\n",
              "      <td>2.378173</td>\n",
              "      <td>1.052103</td>\n",
              "      <td>1.069397</td>\n",
              "      <td>0.599447</td>\n",
              "      <td>-1.260077</td>\n",
              "      <td>0.416859</td>\n",
              "      <td>1.139993</td>\n",
              "      <td>2.434338</td>\n",
              "      <td>-0.002719</td>\n",
              "      <td>-0.042231</td>\n",
              "      <td>1.534097</td>\n",
              "      <td>0.533483</td>\n",
              "      <td>1.922163</td>\n",
              "      <td>-0.467099</td>\n",
              "      <td>-0.627498</td>\n",
              "      <td>-0.405301</td>\n",
              "      <td>0.336748</td>\n",
              "      <td>0.289822</td>\n",
              "    </tr>\n",
              "  </tbody>\n",
              "</table>\n",
              "<p>11152 rows × 21 columns</p>\n",
              "</div>"
            ],
            "text/plain": [
              "       job_level  ...  Achievement_above_100%_during3quartal\n",
              "0      -0.239087  ...                              -0.613250\n",
              "1      -0.239087  ...                              -0.613250\n",
              "2       3.752370  ...                              -0.613250\n",
              "3       3.752370  ...                              -0.613250\n",
              "4       3.752370  ...                              -0.613250\n",
              "...          ...  ...                                    ...\n",
              "11147  -0.239087  ...                              -0.613250\n",
              "11148  -0.239087  ...                              -0.613250\n",
              "11149  -0.239087  ...                              -0.613250\n",
              "11150  -0.239087  ...                               0.289822\n",
              "11151  -0.239087  ...                               0.289822\n",
              "\n",
              "[11152 rows x 21 columns]"
            ]
          },
          "metadata": {
            "tags": []
          },
          "execution_count": 41
        }
      ]
    },
    {
      "cell_type": "markdown",
      "metadata": {
        "id": "nfj_kQyZQuaC"
      },
      "source": [
        "# **Feature Selection**"
      ]
    },
    {
      "cell_type": "code",
      "metadata": {
        "id": "JhlYWVgQx4al",
        "colab": {
          "base_uri": "https://localhost:8080/"
        },
        "outputId": "ae1a3c1e-11ab-4e12-d5c8-ac0f56ddcd95"
      },
      "source": [
        "# Categorical independent variable, categorical dependent variable using mutual information\n",
        "\n",
        "X_mut = scaled_data[['job_level','person_level','Employee_type','gender','marital_status_maried(Y/N)']]\n",
        "y_mut = data_train['Best Performance']\n",
        "\n",
        "print(X_mut)\n",
        "print(y_mut)\n",
        "mut_score = mutual_info_classif(X_mut, y_mut)\n",
        "print(mut_score)\n"
      ],
      "execution_count": 34,
      "outputs": [
        {
          "output_type": "stream",
          "text": [
            "       job_level  person_level  ...    gender  marital_status_maried(Y/N)\n",
            "0      -0.239087     -0.331605  ...  0.599447                    0.416859\n",
            "1      -0.239087     -0.331605  ...  0.599447                    0.416859\n",
            "2       3.752370      4.046527  ... -1.668204                    0.416859\n",
            "3       3.752370      4.046527  ...  0.599447                    0.416859\n",
            "4       3.752370      4.046527  ...  0.599447                    0.416859\n",
            "...          ...           ...  ...       ...                         ...\n",
            "11147  -0.239087     -0.331605  ...  0.599447                    0.416859\n",
            "11148  -0.239087     -0.331605  ... -1.668204                    0.416859\n",
            "11149  -0.239087     -0.331605  ...  0.599447                    0.416859\n",
            "11150  -0.239087     -0.331605  ... -1.668204                    0.416859\n",
            "11151  -0.239087      1.127772  ...  0.599447                    0.416859\n",
            "\n",
            "[11152 rows x 5 columns]\n",
            "0        0\n",
            "1        0\n",
            "2        0\n",
            "3        1\n",
            "4        0\n",
            "        ..\n",
            "11148    0\n",
            "11149    0\n",
            "11150    0\n",
            "11151    0\n",
            "11152    0\n",
            "Name: Best Performance, Length: 11152, dtype: category\n",
            "Categories (2, int64): [0, 1]\n",
            "[0.         0.00423862 0.         0.         0.0040791 ]\n"
          ],
          "name": "stdout"
        }
      ]
    },
    {
      "cell_type": "code",
      "metadata": {
        "id": "UdSsEEI5-lhE",
        "colab": {
          "base_uri": "https://localhost:8080/",
          "height": 409
        },
        "outputId": "b3ea8545-fff3-4f71-b7af-20f444f704fd"
      },
      "source": [
        "mut_values = pd.Series(mut_score, index = X_mut.columns)\n",
        "mut_values = mut_values.sort_values(ascending= False)\n",
        "mut_values.plot.bar()"
      ],
      "execution_count": 35,
      "outputs": [
        {
          "output_type": "execute_result",
          "data": {
            "text/plain": [
              "<matplotlib.axes._subplots.AxesSubplot at 0x7ff90b1c6d10>"
            ]
          },
          "metadata": {
            "tags": []
          },
          "execution_count": 35
        },
        {
          "output_type": "display_data",
          "data": {
            "image/png": "[encoded data removed]",
            "text/plain": [
              "<Figure size 432x288 with 1 Axes>"
            ]
          },
          "metadata": {
            "tags": [],
            "needs_background": "light"
          }
        }
      ]
    },
    {
      "cell_type": "code",
      "metadata": {
        "id": "JDGjYaaDsbog"
      },
      "source": [
        "# numerical input, categorical output\n",
        "X_anova = scaled_data.drop(['job_level',\n",
        " 'person_level',\n",
        " 'Employee_type',\n",
        " 'marital_status_maried(Y/N)',\n",
        " 'Education_level','gender'],axis=1)\n",
        "y_anova = data_train['Best Performance']"
      ],
      "execution_count": 36,
      "outputs": []
    },
    {
      "cell_type": "code",
      "metadata": {
        "id": "_CChhsq30CH-",
        "colab": {
          "base_uri": "https://localhost:8080/"
        },
        "outputId": "98af051d-42fe-4d66-9bcb-dd2786aa9296"
      },
      "source": [
        "f_anova = f_classif(X_anova,y_anova)\n",
        "f_anova"
      ],
      "execution_count": 37,
      "outputs": [
        {
          "output_type": "execute_result",
          "data": {
            "text/plain": [
              "(array([0.53948145, 2.90972746, 3.32725564, 4.00842608, 1.11737181,\n",
              "        0.66848807, 0.7999602 , 4.12015794, 2.87925721, 0.66477196,\n",
              "        0.59178498, 1.18052691, 1.45169311, 1.78261097, 0.24869088]),\n",
              " array([0.46266316, 0.0880746 , 0.06816724, 0.04529757, 0.29050798,\n",
              "        0.4135967 , 0.37112457, 0.04239882, 0.08975531, 0.41489772,\n",
              "        0.441746  , 0.27727224, 0.22828205, 0.1818563 , 0.61800822]))"
            ]
          },
          "metadata": {
            "tags": []
          },
          "execution_count": 37
        }
      ]
    },
    {
      "cell_type": "code",
      "metadata": {
        "id": "hXPMxqFY1sZB",
        "colab": {
          "base_uri": "https://localhost:8080/",
          "height": 502
        },
        "outputId": "e0f9ebc5-8c32-4754-953c-6412413c5aa9"
      },
      "source": [
        "f_anova_value = pd.Series(f_anova[0],index=X_anova.columns)\n",
        "f_anova_value = f_anova_value.sort_values(ascending=False)\n",
        "f_anova_value.plot.bar()\n",
        "plt.title('F-test Anova')\n"
      ],
      "execution_count": 38,
      "outputs": [
        {
          "output_type": "execute_result",
          "data": {
            "text/plain": [
              "Text(0.5, 1.0, 'F-test Anova')"
            ]
          },
          "metadata": {
            "tags": []
          },
          "execution_count": 38
        },
        {
          "output_type": "display_data",
          "data": {
            "image/png": "[encoded data removed]",
            "text/plain": [
              "<Figure size 432x288 with 1 Axes>"
            ]
          },
          "metadata": {
            "tags": [],
            "needs_background": "light"
          }
        }
      ]
    },
    {
      "cell_type": "code",
      "metadata": {
        "id": "MlwBvZXDczur",
        "colab": {
          "base_uri": "https://localhost:8080/"
        },
        "outputId": "1e084966-3e41-49f4-a33d-92469398f6bb"
      },
      "source": [
        "scaled_data.columns"
      ],
      "execution_count": 39,
      "outputs": [
        {
          "output_type": "execute_result",
          "data": {
            "text/plain": [
              "Index(['job_level', 'job_duration_in_current_job_level', 'person_level',\n",
              "       'job_duration_in_current_person_level',\n",
              "       'job_duration_in_current_branch', 'Employee_type', 'gender', 'age',\n",
              "       'marital_status_maried(Y/N)', 'number_of_dependences',\n",
              "       'Education_level', 'GPA', 'year_graduated',\n",
              "       'job_duration_from_training', 'branch_rotation', 'job_rotation',\n",
              "       'assign_of_otherposition', 'annual leave', 'sick_leaves',\n",
              "       'Last_achievement_%', 'Achievement_above_100%_during3quartal'],\n",
              "      dtype='object')"
            ]
          },
          "metadata": {
            "tags": []
          },
          "execution_count": 39
        }
      ]
    },
    {
      "cell_type": "code",
      "metadata": {
        "id": "AMp_PYqicrb_"
      },
      "source": [
        "scaled_data = scaled_data.drop(['job_level','person_level','year_graduated','GPA','job_rotation','assign_of_otherposition','job_duration_in_current_job_level',\n",
        "                                'Achievement_above_100%_during3quartal'],axis=1)"
      ],
      "execution_count": null,
      "outputs": []
    },
    {
      "cell_type": "code",
      "metadata": {
        "id": "TgbB3TcRg_bY"
      },
      "source": [
        "df_test = df_test.drop(['job_level','person_level','year_graduated','GPA','job_rotation','assign_of_otherposition','job_duration_in_current_job_level',\n",
        "                                'Achievement_above_100%_during3quartal'],axis=1)"
      ],
      "execution_count": null,
      "outputs": []
    },
    {
      "cell_type": "code",
      "metadata": {
        "id": "53L9lM6LvJZB"
      },
      "source": [
        "plt.figure(figsize=(20,20))\n",
        "sns.heatmap(data_train.corr(), annot = True)"
      ],
      "execution_count": null,
      "outputs": []
    },
    {
      "cell_type": "code",
      "metadata": {
        "id": "-CySarDWw724",
        "colab": {
          "base_uri": "https://localhost:8080/"
        },
        "outputId": "ae463970-d305-47f5-d10e-f12f659b5555"
      },
      "source": [
        "import statsmodels.api as sm\n",
        "\n",
        "X = scaled_data\n",
        "y = data_train['Best Performance']"
      ],
      "execution_count": 42,
      "outputs": [
        {
          "output_type": "stream",
          "text": [
            "/usr/local/lib/python3.7/dist-packages/statsmodels/tools/_testing.py:19: FutureWarning: pandas.util.testing is deprecated. Use the functions in the public API at pandas.testing instead.\n",
            "  import pandas.util.testing as tm\n"
          ],
          "name": "stderr"
        }
      ]
    },
    {
      "cell_type": "code",
      "metadata": {
        "id": "PKHwTtCgvjcs"
      },
      "source": [
        "#sns.pairplot(data_train, hue=\"Best Performance\")"
      ],
      "execution_count": null,
      "outputs": []
    },
    {
      "cell_type": "code",
      "metadata": {
        "id": "6HHjft9b8RbI",
        "colab": {
          "base_uri": "https://localhost:8080/"
        },
        "outputId": "dc96b873-424a-4e35-9bd1-ed30da420c8a"
      },
      "source": [
        "from sklearn.model_selection import train_test_split\n",
        "from sklearn.feature_selection import SelectFromModel\n",
        "from sklearn.ensemble import RandomForestClassifier\n",
        "\n",
        "feat_labels = X\n",
        "oversample = SMOTE()\n",
        "X_oversample, y_oversample = oversample.fit_resample(X,y)\n",
        "print(X_oversample.shape, y_oversample.shape)\n",
        "pd.Series(y_oversample).value_counts()\n",
        "X_train, X_test, y_train, y_test = train_test_split(X_oversample, y_oversample, test_size=len(df_test), random_state=42)\n",
        "\n",
        "clf = RandomForestClassifier(n_estimators=10000, random_state=0, n_jobs=-1)\n",
        "\n",
        "# Train the classifier\n",
        "clf.fit(X_train, y_train)\n",
        "\n",
        "# Print the name and gini importance of each feature\n",
        "for feature in zip(feat_labels, clf.feature_importances_):\n",
        "    print(feature)\n",
        "\n",
        "sfm = SelectFromModel(clf, threshold=0.15)\n",
        "\n",
        "# Train the selector\n",
        "sfm.fit(X_train, y_train)"
      ],
      "execution_count": 47,
      "outputs": [
        {
          "output_type": "stream",
          "text": [
            "/usr/local/lib/python3.7/dist-packages/sklearn/utils/deprecation.py:87: FutureWarning: Function safe_indexing is deprecated; safe_indexing is deprecated in version 0.22 and will be removed in version 0.24.\n",
            "  warnings.warn(msg, category=FutureWarning)\n"
          ],
          "name": "stderr"
        },
        {
          "output_type": "stream",
          "text": [
            "(19030, 21) (19030,)\n",
            "('job_level', 0.0015679820289200327)\n",
            "('job_duration_in_current_job_level', 0.06372685056568894)\n",
            "('person_level', 0.003913608213422365)\n",
            "('job_duration_in_current_person_level', 0.06308237734511471)\n",
            "('job_duration_in_current_branch', 0.08328988460708012)\n",
            "('Employee_type', 0.0144907980339662)\n",
            "('gender', 0.011181525796162136)\n",
            "('age', 0.06404601128978502)\n",
            "('marital_status_maried(Y/N)', 0.007474913324933818)\n",
            "('number_of_dependences', 0.029702297662986175)\n",
            "('Education_level', 0.010568171281089377)\n",
            "('GPA', 0.10246138202263731)\n",
            "('year_graduated', 0.06070845664315205)\n",
            "('job_duration_from_training', 0.07773413311747117)\n",
            "('branch_rotation', 0.0760416494483759)\n",
            "('job_rotation', 0.0679307406881086)\n",
            "('assign_of_otherposition', 0.04073754983112866)\n",
            "('annual leave', 0.06303404892306579)\n",
            "('sick_leaves', 0.07155156019061064)\n",
            "('Last_achievement_%', 0.06678901304462416)\n",
            "('Achievement_above_100%_during3quartal', 0.019967045941676934)\n"
          ],
          "name": "stdout"
        },
        {
          "output_type": "execute_result",
          "data": {
            "text/plain": [
              "SelectFromModel(estimator=RandomForestClassifier(bootstrap=True, ccp_alpha=0.0,\n",
              "                                                 class_weight=None,\n",
              "                                                 criterion='gini',\n",
              "                                                 max_depth=None,\n",
              "                                                 max_features='auto',\n",
              "                                                 max_leaf_nodes=None,\n",
              "                                                 max_samples=None,\n",
              "                                                 min_impurity_decrease=0.0,\n",
              "                                                 min_impurity_split=None,\n",
              "                                                 min_samples_leaf=1,\n",
              "                                                 min_samples_split=2,\n",
              "                                                 min_weight_fraction_leaf=0.0,\n",
              "                                                 n_estimators=10000, n_jobs=-1,\n",
              "                                                 oob_score=False,\n",
              "                                                 random_state=0, verbose=0,\n",
              "                                                 warm_start=False),\n",
              "                max_features=None, norm_order=1, prefit=False, threshold=0.15)"
            ]
          },
          "metadata": {
            "tags": []
          },
          "execution_count": 47
        }
      ]
    },
    {
      "cell_type": "code",
      "metadata": {
        "id": "xHUZe2498e8m",
        "colab": {
          "base_uri": "https://localhost:8080/"
        },
        "outputId": "b099d19c-9782-4e4e-cde5-36d89a859327"
      },
      "source": [
        "sfm = SelectFromModel(clf, threshold=0.015)\n",
        "\n",
        "# Train the selector\n",
        "sfm.fit(X_train, y_train)"
      ],
      "execution_count": 48,
      "outputs": [
        {
          "output_type": "execute_result",
          "data": {
            "text/plain": [
              "SelectFromModel(estimator=RandomForestClassifier(bootstrap=True, ccp_alpha=0.0,\n",
              "                                                 class_weight=None,\n",
              "                                                 criterion='gini',\n",
              "                                                 max_depth=None,\n",
              "                                                 max_features='auto',\n",
              "                                                 max_leaf_nodes=None,\n",
              "                                                 max_samples=None,\n",
              "                                                 min_impurity_decrease=0.0,\n",
              "                                                 min_impurity_split=None,\n",
              "                                                 min_samples_leaf=1,\n",
              "                                                 min_samples_split=2,\n",
              "                                                 min_weight_fraction_leaf=0.0,\n",
              "                                                 n_estimators=10000, n_jobs=-1,\n",
              "                                                 oob_score=False,\n",
              "                                                 random_state=0, verbose=0,\n",
              "                                                 warm_start=False),\n",
              "                max_features=None, norm_order=1, prefit=False, threshold=0.015)"
            ]
          },
          "metadata": {
            "tags": []
          },
          "execution_count": 48
        }
      ]
    },
    {
      "cell_type": "code",
      "metadata": {
        "id": "xR3WLyv08he8",
        "colab": {
          "base_uri": "https://localhost:8080/"
        },
        "outputId": "9fc269ff-aa45-448c-abbe-04d4fdb74c36"
      },
      "source": [
        "sfm.get_support()"
      ],
      "execution_count": 49,
      "outputs": [
        {
          "output_type": "execute_result",
          "data": {
            "text/plain": [
              "array([False,  True, False,  True,  True, False, False,  True, False,\n",
              "        True, False,  True,  True,  True,  True,  True,  True,  True,\n",
              "        True,  True,  True])"
            ]
          },
          "metadata": {
            "tags": []
          },
          "execution_count": 49
        }
      ]
    },
    {
      "cell_type": "code",
      "metadata": {
        "id": "0mjAFk0T8lO1"
      },
      "source": [
        "X_important_train = sfm.transform(X_train)\n",
        "X_important_test = sfm.transform(X_test)"
      ],
      "execution_count": 50,
      "outputs": []
    },
    {
      "cell_type": "code",
      "metadata": {
        "colab": {
          "base_uri": "https://localhost:8080/"
        },
        "id": "HYjOl3yE5ndd",
        "outputId": "7448e396-78af-413f-c056-75b0f3ceaf38"
      },
      "source": [
        "len(X_important_train)"
      ],
      "execution_count": 53,
      "outputs": [
        {
          "output_type": "execute_result",
          "data": {
            "text/plain": [
              "13030"
            ]
          },
          "metadata": {
            "tags": []
          },
          "execution_count": 53
        }
      ]
    },
    {
      "cell_type": "code",
      "metadata": {
        "colab": {
          "base_uri": "https://localhost:8080/"
        },
        "id": "K8U5YIQo5psx",
        "outputId": "5ba73d30-f3fb-40d2-feef-52e4f0bbaef5"
      },
      "source": [
        "len(X_important_test)"
      ],
      "execution_count": 54,
      "outputs": [
        {
          "output_type": "execute_result",
          "data": {
            "text/plain": [
              "6000"
            ]
          },
          "metadata": {
            "tags": []
          },
          "execution_count": 54
        }
      ]
    },
    {
      "cell_type": "markdown",
      "metadata": {
        "id": "Vx8fHoreCp0z"
      },
      "source": [
        "# **Modeling**"
      ]
    },
    {
      "cell_type": "markdown",
      "metadata": {
        "id": "tbVJocnsCxhb"
      },
      "source": [
        "**Roihan**"
      ]
    },
    {
      "cell_type": "markdown",
      "metadata": {
        "id": "E91yVSCLLdH6"
      },
      "source": [
        "#####1. Logistic Regression"
      ]
    },
    {
      "cell_type": "code",
      "metadata": {
        "id": "XQ2gEOLtLbgI"
      },
      "source": [
        "logreg = LogisticRegression()\n",
        "logreg.fit(X_important_train, y_train)\n",
        "y_pred_lr = logreg.predict_proba(X_important_test)"
      ],
      "execution_count": 59,
      "outputs": []
    },
    {
      "cell_type": "code",
      "metadata": {
        "id": "Z1EMXZV5LsUL",
        "colab": {
          "base_uri": "https://localhost:8080/"
        },
        "outputId": "a2926f8d-ccc6-4add-fd31-0b1b29500f9c"
      },
      "source": [
        "y_pred_lr = y_pred_lr[:,1]\n",
        "auc_lr = roc_auc_score(y_test, y_pred_lr)\n",
        "fpr_lr,tpr_lr,threshold_lr = roc_curve(y_test, y_pred_lr)\n",
        "print(\"AUC Score: \",auc_lr)\n",
        "print(\"True Positive Rate: \", tpr_lr)\n",
        "print(\"False Positive Rate: \",fpr_lr)\n",
        "print(\"Threshold: \",threshold_lr)"
      ],
      "execution_count": 60,
      "outputs": [
        {
          "output_type": "stream",
          "text": [
            "AUC Score:  0.5377230099115516\n",
            "True Positive Rate:  [0.         0.         0.         ... 0.99966887 1.         1.        ]\n",
            "False Positive Rate:  [0.00000000e+00 3.35570470e-04 1.00671141e-03 ... 9.98322148e-01\n",
            " 9.98322148e-01 1.00000000e+00]\n",
            "Threshold:  [1.74398567 0.74398567 0.69486177 ... 0.25357511 0.25114116 0.12542718]\n"
          ],
          "name": "stdout"
        }
      ]
    },
    {
      "cell_type": "markdown",
      "metadata": {
        "id": "pYwTscRJMGMG"
      },
      "source": [
        "##### 2. KNN"
      ]
    },
    {
      "cell_type": "code",
      "metadata": {
        "id": "B8Mr228qMLyJ",
        "colab": {
          "base_uri": "https://localhost:8080/"
        },
        "outputId": "17dbbafd-c887-4136-f640-1f8a3744d283"
      },
      "source": [
        "n_neighbors = [1,3,5,7,9,11,13,15,17,19,21]\n",
        "weights = ['uniform', 'distance']\n",
        "algorithm = ['auto', 'ball_tree', 'kd_tree', 'brute']\n",
        "leaf_size = [int(x) for x in np.linspace(start = 10, stop= 100, num= 10)]\n",
        "p = [1,2]\n",
        "random_grid = {\n",
        "      'n_neighbors' : n_neighbors,\n",
        "      'weights' : weights,\n",
        "      'algorithm' : algorithm,\n",
        "      'leaf_size' : leaf_size,\n",
        "      'p' : p\n",
        "}\n",
        "\n",
        "knn_clf = KNeighborsClassifier()\n",
        "knn_randomcv = RandomizedSearchCV(estimator= knn_clf, param_distributions= random_grid, n_iter= 25, cv = 5, verbose= 2, random_state= 100, n_jobs= 1)\n",
        "knn_randomcv.fit(X_important_train,y_train)\n",
        "best_random_grid_knn = knn_randomcv.best_estimator_\n",
        "y_pred_knn = best_random_grid_knn.predict_proba(X_important_test)\n",
        "print(\"Best: %f using %s\" % (knn_randomcv.best_score_, knn_randomcv.best_params_))"
      ],
      "execution_count": 61,
      "outputs": [
        {
          "output_type": "stream",
          "text": [
            "Fitting 5 folds for each of 25 candidates, totalling 125 fits\n",
            "[CV] weights=distance, p=1, n_neighbors=7, leaf_size=20, algorithm=auto \n"
          ],
          "name": "stdout"
        },
        {
          "output_type": "stream",
          "text": [
            "[Parallel(n_jobs=1)]: Using backend SequentialBackend with 1 concurrent workers.\n"
          ],
          "name": "stderr"
        },
        {
          "output_type": "stream",
          "text": [
            "[CV]  weights=distance, p=1, n_neighbors=7, leaf_size=20, algorithm=auto, total=   1.0s\n",
            "[CV] weights=distance, p=1, n_neighbors=7, leaf_size=20, algorithm=auto \n"
          ],
          "name": "stdout"
        },
        {
          "output_type": "stream",
          "text": [
            "[Parallel(n_jobs=1)]: Done   1 out of   1 | elapsed:    1.0s remaining:    0.0s\n"
          ],
          "name": "stderr"
        },
        {
          "output_type": "stream",
          "text": [
            "[CV]  weights=distance, p=1, n_neighbors=7, leaf_size=20, algorithm=auto, total=   1.0s\n",
            "[CV] weights=distance, p=1, n_neighbors=7, leaf_size=20, algorithm=auto \n",
            "[CV]  weights=distance, p=1, n_neighbors=7, leaf_size=20, algorithm=auto, total=   1.1s\n",
            "[CV] weights=distance, p=1, n_neighbors=7, leaf_size=20, algorithm=auto \n",
            "[CV]  weights=distance, p=1, n_neighbors=7, leaf_size=20, algorithm=auto, total=   1.1s\n",
            "[CV] weights=distance, p=1, n_neighbors=7, leaf_size=20, algorithm=auto \n",
            "[CV]  weights=distance, p=1, n_neighbors=7, leaf_size=20, algorithm=auto, total=   1.0s\n",
            "[CV] weights=distance, p=2, n_neighbors=15, leaf_size=10, algorithm=auto \n",
            "[CV]  weights=distance, p=2, n_neighbors=15, leaf_size=10, algorithm=auto, total=   1.1s\n",
            "[CV] weights=distance, p=2, n_neighbors=15, leaf_size=10, algorithm=auto \n",
            "[CV]  weights=distance, p=2, n_neighbors=15, leaf_size=10, algorithm=auto, total=   1.1s\n",
            "[CV] weights=distance, p=2, n_neighbors=15, leaf_size=10, algorithm=auto \n",
            "[CV]  weights=distance, p=2, n_neighbors=15, leaf_size=10, algorithm=auto, total=   1.1s\n",
            "[CV] weights=distance, p=2, n_neighbors=15, leaf_size=10, algorithm=auto \n",
            "[CV]  weights=distance, p=2, n_neighbors=15, leaf_size=10, algorithm=auto, total=   1.1s\n",
            "[CV] weights=distance, p=2, n_neighbors=15, leaf_size=10, algorithm=auto \n",
            "[CV]  weights=distance, p=2, n_neighbors=15, leaf_size=10, algorithm=auto, total=   1.1s\n",
            "[CV] weights=distance, p=1, n_neighbors=21, leaf_size=40, algorithm=auto \n",
            "[CV]  weights=distance, p=1, n_neighbors=21, leaf_size=40, algorithm=auto, total=   1.0s\n",
            "[CV] weights=distance, p=1, n_neighbors=21, leaf_size=40, algorithm=auto \n",
            "[CV]  weights=distance, p=1, n_neighbors=21, leaf_size=40, algorithm=auto, total=   1.0s\n",
            "[CV] weights=distance, p=1, n_neighbors=21, leaf_size=40, algorithm=auto \n",
            "[CV]  weights=distance, p=1, n_neighbors=21, leaf_size=40, algorithm=auto, total=   1.0s\n",
            "[CV] weights=distance, p=1, n_neighbors=21, leaf_size=40, algorithm=auto \n",
            "[CV]  weights=distance, p=1, n_neighbors=21, leaf_size=40, algorithm=auto, total=   1.0s\n",
            "[CV] weights=distance, p=1, n_neighbors=21, leaf_size=40, algorithm=auto \n",
            "[CV]  weights=distance, p=1, n_neighbors=21, leaf_size=40, algorithm=auto, total=   1.0s\n",
            "[CV] weights=uniform, p=1, n_neighbors=1, leaf_size=10, algorithm=kd_tree \n",
            "[CV]  weights=uniform, p=1, n_neighbors=1, leaf_size=10, algorithm=kd_tree, total=   0.8s\n",
            "[CV] weights=uniform, p=1, n_neighbors=1, leaf_size=10, algorithm=kd_tree \n",
            "[CV]  weights=uniform, p=1, n_neighbors=1, leaf_size=10, algorithm=kd_tree, total=   0.8s\n",
            "[CV] weights=uniform, p=1, n_neighbors=1, leaf_size=10, algorithm=kd_tree \n",
            "[CV]  weights=uniform, p=1, n_neighbors=1, leaf_size=10, algorithm=kd_tree, total=   0.9s\n",
            "[CV] weights=uniform, p=1, n_neighbors=1, leaf_size=10, algorithm=kd_tree \n",
            "[CV]  weights=uniform, p=1, n_neighbors=1, leaf_size=10, algorithm=kd_tree, total=   0.9s\n",
            "[CV] weights=uniform, p=1, n_neighbors=1, leaf_size=10, algorithm=kd_tree \n",
            "[CV]  weights=uniform, p=1, n_neighbors=1, leaf_size=10, algorithm=kd_tree, total=   0.8s\n",
            "[CV] weights=distance, p=1, n_neighbors=15, leaf_size=80, algorithm=ball_tree \n",
            "[CV]  weights=distance, p=1, n_neighbors=15, leaf_size=80, algorithm=ball_tree, total=   0.8s\n",
            "[CV] weights=distance, p=1, n_neighbors=15, leaf_size=80, algorithm=ball_tree \n",
            "[CV]  weights=distance, p=1, n_neighbors=15, leaf_size=80, algorithm=ball_tree, total=   0.8s\n",
            "[CV] weights=distance, p=1, n_neighbors=15, leaf_size=80, algorithm=ball_tree \n",
            "[CV]  weights=distance, p=1, n_neighbors=15, leaf_size=80, algorithm=ball_tree, total=   0.8s\n",
            "[CV] weights=distance, p=1, n_neighbors=15, leaf_size=80, algorithm=ball_tree \n",
            "[CV]  weights=distance, p=1, n_neighbors=15, leaf_size=80, algorithm=ball_tree, total=   0.8s\n",
            "[CV] weights=distance, p=1, n_neighbors=15, leaf_size=80, algorithm=ball_tree \n",
            "[CV]  weights=distance, p=1, n_neighbors=15, leaf_size=80, algorithm=ball_tree, total=   0.8s\n",
            "[CV] weights=distance, p=2, n_neighbors=19, leaf_size=30, algorithm=kd_tree \n",
            "[CV]  weights=distance, p=2, n_neighbors=19, leaf_size=30, algorithm=kd_tree, total=   0.7s\n",
            "[CV] weights=distance, p=2, n_neighbors=19, leaf_size=30, algorithm=kd_tree \n",
            "[CV]  weights=distance, p=2, n_neighbors=19, leaf_size=30, algorithm=kd_tree, total=   0.7s\n",
            "[CV] weights=distance, p=2, n_neighbors=19, leaf_size=30, algorithm=kd_tree \n",
            "[CV]  weights=distance, p=2, n_neighbors=19, leaf_size=30, algorithm=kd_tree, total=   0.8s\n",
            "[CV] weights=distance, p=2, n_neighbors=19, leaf_size=30, algorithm=kd_tree \n",
            "[CV]  weights=distance, p=2, n_neighbors=19, leaf_size=30, algorithm=kd_tree, total=   0.7s\n",
            "[CV] weights=distance, p=2, n_neighbors=19, leaf_size=30, algorithm=kd_tree \n",
            "[CV]  weights=distance, p=2, n_neighbors=19, leaf_size=30, algorithm=kd_tree, total=   0.7s\n",
            "[CV] weights=distance, p=1, n_neighbors=3, leaf_size=20, algorithm=kd_tree \n",
            "[CV]  weights=distance, p=1, n_neighbors=3, leaf_size=20, algorithm=kd_tree, total=   0.9s\n",
            "[CV] weights=distance, p=1, n_neighbors=3, leaf_size=20, algorithm=kd_tree \n",
            "[CV]  weights=distance, p=1, n_neighbors=3, leaf_size=20, algorithm=kd_tree, total=   0.9s\n",
            "[CV] weights=distance, p=1, n_neighbors=3, leaf_size=20, algorithm=kd_tree \n",
            "[CV]  weights=distance, p=1, n_neighbors=3, leaf_size=20, algorithm=kd_tree, total=   0.9s\n",
            "[CV] weights=distance, p=1, n_neighbors=3, leaf_size=20, algorithm=kd_tree \n",
            "[CV]  weights=distance, p=1, n_neighbors=3, leaf_size=20, algorithm=kd_tree, total=   0.9s\n",
            "[CV] weights=distance, p=1, n_neighbors=3, leaf_size=20, algorithm=kd_tree \n",
            "[CV]  weights=distance, p=1, n_neighbors=3, leaf_size=20, algorithm=kd_tree, total=   0.9s\n",
            "[CV] weights=distance, p=2, n_neighbors=13, leaf_size=10, algorithm=auto \n",
            "[CV]  weights=distance, p=2, n_neighbors=13, leaf_size=10, algorithm=auto, total=   1.1s\n",
            "[CV] weights=distance, p=2, n_neighbors=13, leaf_size=10, algorithm=auto \n",
            "[CV]  weights=distance, p=2, n_neighbors=13, leaf_size=10, algorithm=auto, total=   1.1s\n",
            "[CV] weights=distance, p=2, n_neighbors=13, leaf_size=10, algorithm=auto \n",
            "[CV]  weights=distance, p=2, n_neighbors=13, leaf_size=10, algorithm=auto, total=   1.1s\n",
            "[CV] weights=distance, p=2, n_neighbors=13, leaf_size=10, algorithm=auto \n",
            "[CV]  weights=distance, p=2, n_neighbors=13, leaf_size=10, algorithm=auto, total=   1.1s\n",
            "[CV] weights=distance, p=2, n_neighbors=13, leaf_size=10, algorithm=auto \n",
            "[CV]  weights=distance, p=2, n_neighbors=13, leaf_size=10, algorithm=auto, total=   1.1s\n",
            "[CV] weights=uniform, p=1, n_neighbors=7, leaf_size=30, algorithm=brute \n",
            "[CV]  weights=uniform, p=1, n_neighbors=7, leaf_size=30, algorithm=brute, total=   0.8s\n",
            "[CV] weights=uniform, p=1, n_neighbors=7, leaf_size=30, algorithm=brute \n",
            "[CV]  weights=uniform, p=1, n_neighbors=7, leaf_size=30, algorithm=brute, total=   0.7s\n",
            "[CV] weights=uniform, p=1, n_neighbors=7, leaf_size=30, algorithm=brute \n",
            "[CV]  weights=uniform, p=1, n_neighbors=7, leaf_size=30, algorithm=brute, total=   0.7s\n",
            "[CV] weights=uniform, p=1, n_neighbors=7, leaf_size=30, algorithm=brute \n",
            "[CV]  weights=uniform, p=1, n_neighbors=7, leaf_size=30, algorithm=brute, total=   0.7s\n",
            "[CV] weights=uniform, p=1, n_neighbors=7, leaf_size=30, algorithm=brute \n",
            "[CV]  weights=uniform, p=1, n_neighbors=7, leaf_size=30, algorithm=brute, total=   0.7s\n",
            "[CV] weights=distance, p=1, n_neighbors=7, leaf_size=90, algorithm=kd_tree \n",
            "[CV]  weights=distance, p=1, n_neighbors=7, leaf_size=90, algorithm=kd_tree, total=   0.8s\n",
            "[CV] weights=distance, p=1, n_neighbors=7, leaf_size=90, algorithm=kd_tree \n",
            "[CV]  weights=distance, p=1, n_neighbors=7, leaf_size=90, algorithm=kd_tree, total=   0.8s\n",
            "[CV] weights=distance, p=1, n_neighbors=7, leaf_size=90, algorithm=kd_tree \n",
            "[CV]  weights=distance, p=1, n_neighbors=7, leaf_size=90, algorithm=kd_tree, total=   0.8s\n",
            "[CV] weights=distance, p=1, n_neighbors=7, leaf_size=90, algorithm=kd_tree \n",
            "[CV]  weights=distance, p=1, n_neighbors=7, leaf_size=90, algorithm=kd_tree, total=   0.8s\n",
            "[CV] weights=distance, p=1, n_neighbors=7, leaf_size=90, algorithm=kd_tree \n",
            "[CV]  weights=distance, p=1, n_neighbors=7, leaf_size=90, algorithm=kd_tree, total=   0.8s\n",
            "[CV] weights=distance, p=1, n_neighbors=19, leaf_size=10, algorithm=kd_tree \n",
            "[CV]  weights=distance, p=1, n_neighbors=19, leaf_size=10, algorithm=kd_tree, total=   1.5s\n",
            "[CV] weights=distance, p=1, n_neighbors=19, leaf_size=10, algorithm=kd_tree \n",
            "[CV]  weights=distance, p=1, n_neighbors=19, leaf_size=10, algorithm=kd_tree, total=   1.5s\n",
            "[CV] weights=distance, p=1, n_neighbors=19, leaf_size=10, algorithm=kd_tree \n",
            "[CV]  weights=distance, p=1, n_neighbors=19, leaf_size=10, algorithm=kd_tree, total=   1.6s\n",
            "[CV] weights=distance, p=1, n_neighbors=19, leaf_size=10, algorithm=kd_tree \n",
            "[CV]  weights=distance, p=1, n_neighbors=19, leaf_size=10, algorithm=kd_tree, total=   1.5s\n",
            "[CV] weights=distance, p=1, n_neighbors=19, leaf_size=10, algorithm=kd_tree \n",
            "[CV]  weights=distance, p=1, n_neighbors=19, leaf_size=10, algorithm=kd_tree, total=   1.6s\n",
            "[CV] weights=distance, p=1, n_neighbors=19, leaf_size=80, algorithm=auto \n",
            "[CV]  weights=distance, p=1, n_neighbors=19, leaf_size=80, algorithm=auto, total=   0.9s\n",
            "[CV] weights=distance, p=1, n_neighbors=19, leaf_size=80, algorithm=auto \n",
            "[CV]  weights=distance, p=1, n_neighbors=19, leaf_size=80, algorithm=auto, total=   0.9s\n",
            "[CV] weights=distance, p=1, n_neighbors=19, leaf_size=80, algorithm=auto \n",
            "[CV]  weights=distance, p=1, n_neighbors=19, leaf_size=80, algorithm=auto, total=   0.9s\n",
            "[CV] weights=distance, p=1, n_neighbors=19, leaf_size=80, algorithm=auto \n",
            "[CV]  weights=distance, p=1, n_neighbors=19, leaf_size=80, algorithm=auto, total=   0.9s\n",
            "[CV] weights=distance, p=1, n_neighbors=19, leaf_size=80, algorithm=auto \n",
            "[CV]  weights=distance, p=1, n_neighbors=19, leaf_size=80, algorithm=auto, total=   0.9s\n",
            "[CV] weights=uniform, p=1, n_neighbors=15, leaf_size=10, algorithm=auto \n",
            "[CV]  weights=uniform, p=1, n_neighbors=15, leaf_size=10, algorithm=auto, total=   1.6s\n",
            "[CV] weights=uniform, p=1, n_neighbors=15, leaf_size=10, algorithm=auto \n",
            "[CV]  weights=uniform, p=1, n_neighbors=15, leaf_size=10, algorithm=auto, total=   1.6s\n",
            "[CV] weights=uniform, p=1, n_neighbors=15, leaf_size=10, algorithm=auto \n",
            "[CV]  weights=uniform, p=1, n_neighbors=15, leaf_size=10, algorithm=auto, total=   1.6s\n",
            "[CV] weights=uniform, p=1, n_neighbors=15, leaf_size=10, algorithm=auto \n",
            "[CV]  weights=uniform, p=1, n_neighbors=15, leaf_size=10, algorithm=auto, total=   1.6s\n",
            "[CV] weights=uniform, p=1, n_neighbors=15, leaf_size=10, algorithm=auto \n",
            "[CV]  weights=uniform, p=1, n_neighbors=15, leaf_size=10, algorithm=auto, total=   1.6s\n",
            "[CV] weights=distance, p=2, n_neighbors=13, leaf_size=70, algorithm=ball_tree \n",
            "[CV]  weights=distance, p=2, n_neighbors=13, leaf_size=70, algorithm=ball_tree, total=   0.8s\n",
            "[CV] weights=distance, p=2, n_neighbors=13, leaf_size=70, algorithm=ball_tree \n",
            "[CV]  weights=distance, p=2, n_neighbors=13, leaf_size=70, algorithm=ball_tree, total=   0.7s\n",
            "[CV] weights=distance, p=2, n_neighbors=13, leaf_size=70, algorithm=ball_tree \n",
            "[CV]  weights=distance, p=2, n_neighbors=13, leaf_size=70, algorithm=ball_tree, total=   0.7s\n",
            "[CV] weights=distance, p=2, n_neighbors=13, leaf_size=70, algorithm=ball_tree \n",
            "[CV]  weights=distance, p=2, n_neighbors=13, leaf_size=70, algorithm=ball_tree, total=   0.7s\n",
            "[CV] weights=distance, p=2, n_neighbors=13, leaf_size=70, algorithm=ball_tree \n",
            "[CV]  weights=distance, p=2, n_neighbors=13, leaf_size=70, algorithm=ball_tree, total=   0.7s\n",
            "[CV] weights=distance, p=1, n_neighbors=11, leaf_size=60, algorithm=kd_tree \n",
            "[CV]  weights=distance, p=1, n_neighbors=11, leaf_size=60, algorithm=kd_tree, total=   0.9s\n",
            "[CV] weights=distance, p=1, n_neighbors=11, leaf_size=60, algorithm=kd_tree \n",
            "[CV]  weights=distance, p=1, n_neighbors=11, leaf_size=60, algorithm=kd_tree, total=   0.8s\n",
            "[CV] weights=distance, p=1, n_neighbors=11, leaf_size=60, algorithm=kd_tree \n",
            "[CV]  weights=distance, p=1, n_neighbors=11, leaf_size=60, algorithm=kd_tree, total=   0.9s\n",
            "[CV] weights=distance, p=1, n_neighbors=11, leaf_size=60, algorithm=kd_tree \n",
            "[CV]  weights=distance, p=1, n_neighbors=11, leaf_size=60, algorithm=kd_tree, total=   0.8s\n",
            "[CV] weights=distance, p=1, n_neighbors=11, leaf_size=60, algorithm=kd_tree \n",
            "[CV]  weights=distance, p=1, n_neighbors=11, leaf_size=60, algorithm=kd_tree, total=   0.9s\n",
            "[CV] weights=distance, p=2, n_neighbors=13, leaf_size=90, algorithm=brute \n",
            "[CV]  weights=distance, p=2, n_neighbors=13, leaf_size=90, algorithm=brute, total=   0.5s\n",
            "[CV] weights=distance, p=2, n_neighbors=13, leaf_size=90, algorithm=brute \n",
            "[CV]  weights=distance, p=2, n_neighbors=13, leaf_size=90, algorithm=brute, total=   0.5s\n",
            "[CV] weights=distance, p=2, n_neighbors=13, leaf_size=90, algorithm=brute \n",
            "[CV]  weights=distance, p=2, n_neighbors=13, leaf_size=90, algorithm=brute, total=   0.5s\n",
            "[CV] weights=distance, p=2, n_neighbors=13, leaf_size=90, algorithm=brute \n",
            "[CV]  weights=distance, p=2, n_neighbors=13, leaf_size=90, algorithm=brute, total=   0.5s\n",
            "[CV] weights=distance, p=2, n_neighbors=13, leaf_size=90, algorithm=brute \n",
            "[CV]  weights=distance, p=2, n_neighbors=13, leaf_size=90, algorithm=brute, total=   0.5s\n",
            "[CV] weights=distance, p=2, n_neighbors=3, leaf_size=60, algorithm=brute \n",
            "[CV]  weights=distance, p=2, n_neighbors=3, leaf_size=60, algorithm=brute, total=   0.4s\n",
            "[CV] weights=distance, p=2, n_neighbors=3, leaf_size=60, algorithm=brute \n",
            "[CV]  weights=distance, p=2, n_neighbors=3, leaf_size=60, algorithm=brute, total=   0.4s\n",
            "[CV] weights=distance, p=2, n_neighbors=3, leaf_size=60, algorithm=brute \n",
            "[CV]  weights=distance, p=2, n_neighbors=3, leaf_size=60, algorithm=brute, total=   0.4s\n",
            "[CV] weights=distance, p=2, n_neighbors=3, leaf_size=60, algorithm=brute \n",
            "[CV]  weights=distance, p=2, n_neighbors=3, leaf_size=60, algorithm=brute, total=   0.4s\n",
            "[CV] weights=distance, p=2, n_neighbors=3, leaf_size=60, algorithm=brute \n",
            "[CV]  weights=distance, p=2, n_neighbors=3, leaf_size=60, algorithm=brute, total=   0.4s\n",
            "[CV] weights=uniform, p=2, n_neighbors=3, leaf_size=70, algorithm=ball_tree \n",
            "[CV]  weights=uniform, p=2, n_neighbors=3, leaf_size=70, algorithm=ball_tree, total=   0.8s\n",
            "[CV] weights=uniform, p=2, n_neighbors=3, leaf_size=70, algorithm=ball_tree \n",
            "[CV]  weights=uniform, p=2, n_neighbors=3, leaf_size=70, algorithm=ball_tree, total=   0.8s\n",
            "[CV] weights=uniform, p=2, n_neighbors=3, leaf_size=70, algorithm=ball_tree \n",
            "[CV]  weights=uniform, p=2, n_neighbors=3, leaf_size=70, algorithm=ball_tree, total=   0.8s\n",
            "[CV] weights=uniform, p=2, n_neighbors=3, leaf_size=70, algorithm=ball_tree \n",
            "[CV]  weights=uniform, p=2, n_neighbors=3, leaf_size=70, algorithm=ball_tree, total=   0.8s\n",
            "[CV] weights=uniform, p=2, n_neighbors=3, leaf_size=70, algorithm=ball_tree \n",
            "[CV]  weights=uniform, p=2, n_neighbors=3, leaf_size=70, algorithm=ball_tree, total=   0.8s\n",
            "[CV] weights=uniform, p=2, n_neighbors=7, leaf_size=20, algorithm=brute \n",
            "[CV]  weights=uniform, p=2, n_neighbors=7, leaf_size=20, algorithm=brute, total=   0.6s\n",
            "[CV] weights=uniform, p=2, n_neighbors=7, leaf_size=20, algorithm=brute \n",
            "[CV]  weights=uniform, p=2, n_neighbors=7, leaf_size=20, algorithm=brute, total=   0.6s\n",
            "[CV] weights=uniform, p=2, n_neighbors=7, leaf_size=20, algorithm=brute \n",
            "[CV]  weights=uniform, p=2, n_neighbors=7, leaf_size=20, algorithm=brute, total=   0.6s\n",
            "[CV] weights=uniform, p=2, n_neighbors=7, leaf_size=20, algorithm=brute \n",
            "[CV]  weights=uniform, p=2, n_neighbors=7, leaf_size=20, algorithm=brute, total=   0.6s\n",
            "[CV] weights=uniform, p=2, n_neighbors=7, leaf_size=20, algorithm=brute \n",
            "[CV]  weights=uniform, p=2, n_neighbors=7, leaf_size=20, algorithm=brute, total=   0.6s\n",
            "[CV] weights=uniform, p=2, n_neighbors=7, leaf_size=50, algorithm=auto \n",
            "[CV]  weights=uniform, p=2, n_neighbors=7, leaf_size=50, algorithm=auto, total=   0.7s\n",
            "[CV] weights=uniform, p=2, n_neighbors=7, leaf_size=50, algorithm=auto \n",
            "[CV]  weights=uniform, p=2, n_neighbors=7, leaf_size=50, algorithm=auto, total=   0.7s\n",
            "[CV] weights=uniform, p=2, n_neighbors=7, leaf_size=50, algorithm=auto \n",
            "[CV]  weights=uniform, p=2, n_neighbors=7, leaf_size=50, algorithm=auto, total=   0.7s\n",
            "[CV] weights=uniform, p=2, n_neighbors=7, leaf_size=50, algorithm=auto \n",
            "[CV]  weights=uniform, p=2, n_neighbors=7, leaf_size=50, algorithm=auto, total=   0.7s\n",
            "[CV] weights=uniform, p=2, n_neighbors=7, leaf_size=50, algorithm=auto \n",
            "[CV]  weights=uniform, p=2, n_neighbors=7, leaf_size=50, algorithm=auto, total=   0.7s\n",
            "[CV] weights=distance, p=2, n_neighbors=1, leaf_size=60, algorithm=auto \n",
            "[CV]  weights=distance, p=2, n_neighbors=1, leaf_size=60, algorithm=auto, total=   0.4s\n",
            "[CV] weights=distance, p=2, n_neighbors=1, leaf_size=60, algorithm=auto \n",
            "[CV]  weights=distance, p=2, n_neighbors=1, leaf_size=60, algorithm=auto, total=   0.4s\n",
            "[CV] weights=distance, p=2, n_neighbors=1, leaf_size=60, algorithm=auto \n",
            "[CV]  weights=distance, p=2, n_neighbors=1, leaf_size=60, algorithm=auto, total=   0.4s\n",
            "[CV] weights=distance, p=2, n_neighbors=1, leaf_size=60, algorithm=auto \n",
            "[CV]  weights=distance, p=2, n_neighbors=1, leaf_size=60, algorithm=auto, total=   0.4s\n",
            "[CV] weights=distance, p=2, n_neighbors=1, leaf_size=60, algorithm=auto \n",
            "[CV]  weights=distance, p=2, n_neighbors=1, leaf_size=60, algorithm=auto, total=   0.4s\n",
            "[CV] weights=distance, p=2, n_neighbors=15, leaf_size=50, algorithm=ball_tree \n",
            "[CV]  weights=distance, p=2, n_neighbors=15, leaf_size=50, algorithm=ball_tree, total=   0.7s\n",
            "[CV] weights=distance, p=2, n_neighbors=15, leaf_size=50, algorithm=ball_tree \n",
            "[CV]  weights=distance, p=2, n_neighbors=15, leaf_size=50, algorithm=ball_tree, total=   0.8s\n",
            "[CV] weights=distance, p=2, n_neighbors=15, leaf_size=50, algorithm=ball_tree \n",
            "[CV]  weights=distance, p=2, n_neighbors=15, leaf_size=50, algorithm=ball_tree, total=   0.7s\n",
            "[CV] weights=distance, p=2, n_neighbors=15, leaf_size=50, algorithm=ball_tree \n",
            "[CV]  weights=distance, p=2, n_neighbors=15, leaf_size=50, algorithm=ball_tree, total=   0.7s\n",
            "[CV] weights=distance, p=2, n_neighbors=15, leaf_size=50, algorithm=ball_tree \n",
            "[CV]  weights=distance, p=2, n_neighbors=15, leaf_size=50, algorithm=ball_tree, total=   0.7s\n",
            "[CV] weights=uniform, p=1, n_neighbors=9, leaf_size=50, algorithm=ball_tree \n",
            "[CV]  weights=uniform, p=1, n_neighbors=9, leaf_size=50, algorithm=ball_tree, total=   0.9s\n",
            "[CV] weights=uniform, p=1, n_neighbors=9, leaf_size=50, algorithm=ball_tree \n",
            "[CV]  weights=uniform, p=1, n_neighbors=9, leaf_size=50, algorithm=ball_tree, total=   0.9s\n",
            "[CV] weights=uniform, p=1, n_neighbors=9, leaf_size=50, algorithm=ball_tree \n",
            "[CV]  weights=uniform, p=1, n_neighbors=9, leaf_size=50, algorithm=ball_tree, total=   0.9s\n",
            "[CV] weights=uniform, p=1, n_neighbors=9, leaf_size=50, algorithm=ball_tree \n",
            "[CV]  weights=uniform, p=1, n_neighbors=9, leaf_size=50, algorithm=ball_tree, total=   0.9s\n",
            "[CV] weights=uniform, p=1, n_neighbors=9, leaf_size=50, algorithm=ball_tree \n",
            "[CV]  weights=uniform, p=1, n_neighbors=9, leaf_size=50, algorithm=ball_tree, total=   0.9s\n",
            "[CV] weights=uniform, p=2, n_neighbors=11, leaf_size=50, algorithm=ball_tree \n",
            "[CV]  weights=uniform, p=2, n_neighbors=11, leaf_size=50, algorithm=ball_tree, total=   0.8s\n",
            "[CV] weights=uniform, p=2, n_neighbors=11, leaf_size=50, algorithm=ball_tree \n",
            "[CV]  weights=uniform, p=2, n_neighbors=11, leaf_size=50, algorithm=ball_tree, total=   0.8s\n",
            "[CV] weights=uniform, p=2, n_neighbors=11, leaf_size=50, algorithm=ball_tree \n",
            "[CV]  weights=uniform, p=2, n_neighbors=11, leaf_size=50, algorithm=ball_tree, total=   0.8s\n",
            "[CV] weights=uniform, p=2, n_neighbors=11, leaf_size=50, algorithm=ball_tree \n",
            "[CV]  weights=uniform, p=2, n_neighbors=11, leaf_size=50, algorithm=ball_tree, total=   0.8s\n",
            "[CV] weights=uniform, p=2, n_neighbors=11, leaf_size=50, algorithm=ball_tree \n",
            "[CV]  weights=uniform, p=2, n_neighbors=11, leaf_size=50, algorithm=ball_tree, total=   0.8s\n",
            "[CV] weights=distance, p=2, n_neighbors=15, leaf_size=20, algorithm=auto \n",
            "[CV]  weights=distance, p=2, n_neighbors=15, leaf_size=20, algorithm=auto, total=   0.8s\n",
            "[CV] weights=distance, p=2, n_neighbors=15, leaf_size=20, algorithm=auto \n",
            "[CV]  weights=distance, p=2, n_neighbors=15, leaf_size=20, algorithm=auto, total=   0.8s\n",
            "[CV] weights=distance, p=2, n_neighbors=15, leaf_size=20, algorithm=auto \n",
            "[CV]  weights=distance, p=2, n_neighbors=15, leaf_size=20, algorithm=auto, total=   0.9s\n",
            "[CV] weights=distance, p=2, n_neighbors=15, leaf_size=20, algorithm=auto \n",
            "[CV]  weights=distance, p=2, n_neighbors=15, leaf_size=20, algorithm=auto, total=   0.8s\n",
            "[CV] weights=distance, p=2, n_neighbors=15, leaf_size=20, algorithm=auto \n",
            "[CV]  weights=distance, p=2, n_neighbors=15, leaf_size=20, algorithm=auto, total=   0.9s\n"
          ],
          "name": "stdout"
        },
        {
          "output_type": "stream",
          "text": [
            "[Parallel(n_jobs=1)]: Done 125 out of 125 | elapsed:  1.8min finished\n"
          ],
          "name": "stderr"
        },
        {
          "output_type": "stream",
          "text": [
            "Best: 0.849424 using {'weights': 'uniform', 'p': 1, 'n_neighbors': 1, 'leaf_size': 10, 'algorithm': 'kd_tree'}\n"
          ],
          "name": "stdout"
        }
      ]
    },
    {
      "cell_type": "code",
      "metadata": {
        "id": "0P3gA8b16add"
      },
      "source": [
        "y_pred_knn"
      ],
      "execution_count": null,
      "outputs": []
    },
    {
      "cell_type": "code",
      "metadata": {
        "id": "DY7UyzKxW9aN",
        "colab": {
          "base_uri": "https://localhost:8080/"
        },
        "outputId": "d9658c0d-2df8-43b8-8014-7142da8280a0"
      },
      "source": [
        "y_pred_knn = y_pred_knn[:,1]\n",
        "auc_knn = roc_auc_score(y_test, y_pred_knn)\n",
        "fpr_knn,tpr_knn,threshold_knn = roc_curve(y_test, y_pred_knn)\n",
        "print(\"AUC Score: \",auc_knn)\n",
        "print(\"True Positive Rate: \", tpr_knn)\n",
        "print(\"False Positive Rate: \",fpr_knn)\n",
        "print(\"Threshold: \",threshold_knn)"
      ],
      "execution_count": 62,
      "outputs": [
        {
          "output_type": "stream",
          "text": [
            "AUC Score:  0.8733788168363039\n",
            "True Positive Rate:  [0.         0.96655629 1.        ]\n",
            "False Positive Rate:  [0.         0.21979866 1.        ]\n",
            "Threshold:  [2. 1. 0.]\n"
          ],
          "name": "stdout"
        }
      ]
    },
    {
      "cell_type": "markdown",
      "metadata": {
        "id": "wLR0cv55WRVm"
      },
      "source": [
        "##### 3. Random Forest"
      ]
    },
    {
      "cell_type": "code",
      "metadata": {
        "id": "E65Is0tMWV3W",
        "colab": {
          "base_uri": "https://localhost:8080/"
        },
        "outputId": "3e9fffd2-0e12-49d0-ea6e-7cb13ea7796a"
      },
      "source": [
        "n_estimators = [int(x) for x in np.linspace(start = 200, stop = 2000, num = 10)]\n",
        "# Number of features to consider at every split\n",
        "max_features = ['auto', 'sqrt','log2']\n",
        "# Maximum number of levels in tree\n",
        "max_depth = [int(x) for x in np.linspace(10, 1000,10)]\n",
        "# Minimum number of samples required to split a node\n",
        "min_samples_split = [2, 5, 10,14]\n",
        "# Minimum number of samples required at each leaf node\n",
        "min_samples_leaf = [1, 2, 4,6,8]\n",
        "# Create the random grid\n",
        "random_grid = {'n_estimators': n_estimators,\n",
        "               'max_features': max_features,\n",
        "               'max_depth': max_depth,\n",
        "               'min_samples_split': min_samples_split,\n",
        "               'min_samples_leaf': min_samples_leaf,\n",
        "              'criterion':['entropy','gini']}\n",
        "\n",
        "rf=RandomForestClassifier()\n",
        "rf_randomcv=RandomizedSearchCV(estimator=rf,param_distributions=random_grid,n_iter=5,cv=3,verbose=2,random_state=100,n_jobs=-1)\n",
        "rf_randomcv.fit(X_important_train,y_train)\n",
        "best_random_grid_rf=rf_randomcv.best_estimator_\n",
        "y_pred_rf=best_random_grid_rf.predict_proba(X_important_test)\n"
      ],
      "execution_count": 63,
      "outputs": [
        {
          "output_type": "stream",
          "text": [
            "Fitting 3 folds for each of 5 candidates, totalling 15 fits\n"
          ],
          "name": "stdout"
        },
        {
          "output_type": "stream",
          "text": [
            "[Parallel(n_jobs=-1)]: Using backend LokyBackend with 2 concurrent workers.\n",
            "[Parallel(n_jobs=-1)]: Done  15 out of  15 | elapsed:  3.1min finished\n"
          ],
          "name": "stderr"
        }
      ]
    },
    {
      "cell_type": "code",
      "metadata": {
        "id": "quhleZGrXbrq",
        "colab": {
          "base_uri": "https://localhost:8080/"
        },
        "outputId": "07d7444c-95a9-479f-9727-75229965f408"
      },
      "source": [
        "y_pred_rf = y_pred_rf[:,1]\n",
        "auc_rf = roc_auc_score(y_test, y_pred_rf)\n",
        "fpr_rf,tpr_rf,threshold_rf = roc_curve(y_test, y_pred_rf)\n",
        "print(\"AUC Score: \",auc_rf)\n",
        "print(\"True Positive Rate: \", tpr_rf)\n",
        "print(\"False Positive Rate: \",fpr_rf)\n",
        "print(\"Threshold: \",threshold_rf)\n",
        "\n",
        "\n"
      ],
      "execution_count": 64,
      "outputs": [
        {
          "output_type": "stream",
          "text": [
            "AUC Score:  0.9529819658651495\n",
            "True Positive Rate:  [0.         0.00430464 0.00463576 ... 0.99966887 1.         1.        ]\n",
            "False Positive Rate:  [0.         0.         0.         ... 0.98791946 0.98791946 1.        ]\n",
            "Threshold:  [2.         1.         0.99916667 ... 0.06883333 0.06816667 0.03291667]\n"
          ],
          "name": "stdout"
        }
      ]
    },
    {
      "cell_type": "code",
      "metadata": {
        "id": "IH7psbHzwvf4"
      },
      "source": [
        "hasil_rf = pd.Series(y_pred_rf)\n",
        "hasil_rf = pd.DataFrame(hasil_rf)\n",
        "\n",
        "hasil_rf.columns = ['Best Performance']\n",
        "\n",
        "hasil_rf.to_csv('hasil_rf_new.csv')\n",
        "\n",
        "!cp hasil_rf_new.csv '/content/drive/MyDrive/dataset/BRI Hackathon/'"
      ],
      "execution_count": null,
      "outputs": []
    },
    {
      "cell_type": "markdown",
      "metadata": {
        "id": "TonKiEmKWjit"
      },
      "source": [
        "##### 4. XGBoost"
      ]
    },
    {
      "cell_type": "code",
      "metadata": {
        "id": "889pIK-2WnvC"
      },
      "source": [
        "model_xgb = XGBClassifier()\n",
        "model_xgb.fit(X_important_train, y_train)\n",
        "y_pred_xgb = model_xgb.predict_proba(X_important_test)"
      ],
      "execution_count": 65,
      "outputs": []
    },
    {
      "cell_type": "code",
      "metadata": {
        "id": "tav_Pw06asi-",
        "colab": {
          "base_uri": "https://localhost:8080/"
        },
        "outputId": "7bb703be-2b31-4970-930d-855acda23cf9"
      },
      "source": [
        "y_pred_xgb = y_pred_xgb[:,1]\n",
        "auc_xgb = roc_auc_score(y_test, y_pred_xgb)\n",
        "fpr_xgb,tpr_xgb,threshold_xgb = roc_curve(y_test, y_pred_xgb)\n",
        "print(\"AUC Score: \",auc_xgb)\n",
        "print(\"True Positive Rate: \", tpr_xgb)\n",
        "print(\"False Positive Rate: \",fpr_xgb)\n",
        "print(\"Threshold: \",threshold_xgb)"
      ],
      "execution_count": 66,
      "outputs": [
        {
          "output_type": "stream",
          "text": [
            "AUC Score:  0.9219515311791635\n",
            "True Positive Rate:  [0.00000000e+00 3.31125828e-04 3.31125828e-03 ... 9.99668874e-01\n",
            " 1.00000000e+00 1.00000000e+00]\n",
            "False Positive Rate:  [0.         0.         0.         ... 0.99194631 0.99194631 1.        ]\n",
            "Threshold:  [1.999516   0.999516   0.9977564  ... 0.08620299 0.08595511 0.0591318 ]\n"
          ],
          "name": "stdout"
        }
      ]
    },
    {
      "cell_type": "markdown",
      "metadata": {
        "id": "nXQrBZpNWy5X"
      },
      "source": [
        "##### ROC AUC"
      ]
    },
    {
      "cell_type": "code",
      "metadata": {
        "id": "6fVvoJmXY-Gs",
        "colab": {
          "base_uri": "https://localhost:8080/",
          "height": 296
        },
        "outputId": "596948d6-8e97-462e-e39b-a33f257a043d"
      },
      "source": [
        "plt.plot([0,1],[0,1],linestyle= '-')\n",
        "plt.plot(fpr_lr,tpr_lr,linestyle='--', label='Logistic Regression')\n",
        "plt.plot(fpr_knn,tpr_knn,linestyle='--', label='KNN')\n",
        "plt.plot(fpr_rf,tpr_rf,linestyle='--', label='Random Forest')\n",
        "plt.plot(fpr_xgb,tpr_xgb,linestyle='--', label='XGBoost')\n",
        "plt.xlabel(\"False Positive Rate\")\n",
        "plt.ylabel(\"True Positive Rate\")\n",
        "plt.legend()"
      ],
      "execution_count": 67,
      "outputs": [
        {
          "output_type": "execute_result",
          "data": {
            "text/plain": [
              "<matplotlib.legend.Legend at 0x7ff8ca090c10>"
            ]
          },
          "metadata": {
            "tags": []
          },
          "execution_count": 67
        },
        {
          "output_type": "display_data",
          "data": {
            "image/png": "[encoded data removed]",
            "text/plain": [
              "<Figure size 432x288 with 1 Axes>"
            ]
          },
          "metadata": {
            "tags": [],
            "needs_background": "light"
          }
        }
      ]
    },
    {
      "cell_type": "markdown",
      "metadata": {
        "id": "Z9r4nFqpWyz5"
      },
      "source": [
        "Based on those models, **Random Forest** have the highest AUC score. So in this case, we use **Random Forest** as our final model"
      ]
    },
    {
      "cell_type": "code",
      "metadata": {
        "id": "mDCPMYOcW-KC"
      },
      "source": [
        ""
      ],
      "execution_count": null,
      "outputs": []
    }
  ]
}